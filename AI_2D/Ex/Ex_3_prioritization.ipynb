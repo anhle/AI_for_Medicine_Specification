{
  "nbformat": 4,
  "nbformat_minor": 0,
  "metadata": {
    "kernelspec": {
      "display_name": "Python 3",
      "language": "python",
      "name": "python3"
    },
    "language_info": {
      "codemirror_mode": {
        "name": "ipython",
        "version": 3
      },
      "file_extension": ".py",
      "mimetype": "text/x-python",
      "name": "python",
      "nbconvert_exporter": "python",
      "pygments_lexer": "ipython3",
      "version": "3.7.6"
    },
    "colab": {
      "name": "Ex_3_prioritization.ipynb",
      "provenance": [],
      "collapsed_sections": [],
      "include_colab_link": true
    }
  },
  "cells": [
    {
      "cell_type": "markdown",
      "metadata": {
        "id": "view-in-github",
        "colab_type": "text"
      },
      "source": [
        "<a href=\"https://colab.research.google.com/github/anhle/AI_for_Medicine_Specification/blob/master/AI_2D/Ex/Ex_3_prioritization.ipynb\" target=\"_parent\"><img src=\"https://colab.research.google.com/assets/colab-badge.svg\" alt=\"Open In Colab\"/></a>"
      ]
    },
    {
      "cell_type": "markdown",
      "metadata": {
        "id": "3JYzzfffRyli",
        "colab_type": "text"
      },
      "source": [
        "**Apply Machine Learning Exercise**\n",
        "In this exercise, you'll be given a real-world situation where a radiologist's worklist needs to be prioritized. In this scenario, you have a radiologist who works in a very busy emergency department in a major city. They are often getting hundreds of emergency images that need to be read every day, and there is no prioritization around those images because they come in through the emergency department, so everything is marked as \"urgent.\" In the current setting, radiologists read these images in a first-in-first-out queue, where all images are simply read in the order that they come in. From a clinical perspective, you know that some urgent cases are truly more urgent than others. From your research in interviewing emergency doctors and radiologists, you have identified that two of the most urgent types of findings on an image are a brain bleed and an aortic dissection. Both of these problems can lead to patient death within minutes, but they can only be detected on imaging, so it is critical these images are read ASAP.\n",
        "\n",
        "You have used deep learning to create two classification algorithms, one for the detection of brain bleeds on head CT images, and one for the detection of aortic dissection on chest x-ray images. Now, you need to figure out how to integrate these algorithms into the radiologist's workflow so that they are most helpful clinically.\n",
        "\n",
        "In this exercise you'll be given the following:\n",
        "\n",
        "1. A list of images that have come in through the ED in order of patient arrival\n",
        "2. Probabilities of 'brain bleed' for each image, as determined by one of your deep learning algorithms\n",
        "3. Probabilities of 'aortic dissection' for each image, as determined by one of your deep learning algorithms\n",
        "\n",
        "You will need to do the following:\n",
        "\n",
        "1. Calculate the amount of time it will take before each image is read by the radiologist, given the patient arrival queue, assuming each image takes 6 minutes to read\n",
        "2. Implement a heuristic that uses the probabilities returned by your two algorithms to re-order the priority read list, assuming that brain bleeds and aortic dissections are equally urgent\n",
        "3. Calculate the time delta for each image between the initial and the re-ordered priority reads\n",
        "\n",
        "\n",
        "Answer the following questions based on your reprioritization:\n",
        "\n",
        "1. If your algorithm's goal was to have brain bleeds read 30 minutes faster, how did it do?\n",
        "2.  If your algorithm's goal was to have aortic dissections read 15 minutes faster, how did it do?\n",
        "3. Were there any cases where your algorithm made it worse for patients who needed an ASAP read? Could anything have been done about this?\n",
        "\n",
        "\n"
      ]
    },
    {
      "cell_type": "code",
      "metadata": {
        "id": "Q0skIVQzQV0S",
        "colab_type": "code",
        "colab": {}
      },
      "source": [
        "import pandas as pd\n",
        "import numpy as np"
      ],
      "execution_count": 0,
      "outputs": []
    },
    {
      "cell_type": "code",
      "metadata": {
        "id": "9oJjg3P4QlWQ",
        "colab_type": "code",
        "colab": {}
      },
      "source": [
        "!git clone https://github.com/anhle/AI-Healthcare.git"
      ],
      "execution_count": 0,
      "outputs": []
    },
    {
      "cell_type": "code",
      "metadata": {
        "id": "ce1j-znbQfbq",
        "colab_type": "code",
        "colab": {}
      },
      "source": [
        "import os\n",
        "os.chdir('/content/AI-Healthcare/AI_2D/Ex/data')\n",
        "!pwd"
      ],
      "execution_count": 0,
      "outputs": []
    },
    {
      "cell_type": "markdown",
      "metadata": {
        "id": "XtdXZmNSQV0W",
        "colab_type": "text"
      },
      "source": [
        "## Worklist prioritization: Emergency Setting"
      ]
    },
    {
      "cell_type": "code",
      "metadata": {
        "id": "81OM2CQcQV0X",
        "colab_type": "code",
        "colab": {}
      },
      "source": [
        "## First, read in the file of the current worklist with the probabilities that your two algorithms have\n",
        "## generated for the two types of findings you're most concerned with:\n",
        "\n",
        "worklist = pd.read_csv('probabilities.csv')\n",
        "worklist.head()"
      ],
      "execution_count": 0,
      "outputs": []
    },
    {
      "cell_type": "markdown",
      "metadata": {
        "id": "nCK4ztp1QV0f",
        "colab_type": "text"
      },
      "source": [
        "Here, I'm just creating a new column to address the first question in the exercise, showing that every image taking 6 minutes to read will be read in the order that they are presented in this list."
      ]
    },
    {
      "cell_type": "code",
      "metadata": {
        "id": "uqSz3oB5QV0f",
        "colab_type": "code",
        "colab": {}
      },
      "source": [
        "worklist['time_to_read'] = np.arange(6, 6*(len(worklist)+1),6)\n",
        "worklist.head()"
      ],
      "execution_count": 0,
      "outputs": []
    },
    {
      "cell_type": "markdown",
      "metadata": {
        "id": "OHtXp1byQV0m",
        "colab_type": "text"
      },
      "source": [
        "Now, for each image, I want to see if brain bleed or aortic dissection are likely. I'll create a new column showing the max probability between the two of them"
      ]
    },
    {
      "cell_type": "code",
      "metadata": {
        "id": "uyM-P3J9QV0m",
        "colab_type": "code",
        "colab": {}
      },
      "source": [
        "worklist['max_prob'] = worklist[[\"Brain_bleed_probability\", \"Aortic_dissection_probability\"]].max(axis=1)\n",
        "worklist.head()"
      ],
      "execution_count": 0,
      "outputs": []
    },
    {
      "cell_type": "markdown",
      "metadata": {
        "id": "9VSubWCNQV0u",
        "colab_type": "text"
      },
      "source": [
        "Great, now I want to re-order my worklist based on probabilities of critical findings:"
      ]
    },
    {
      "cell_type": "code",
      "metadata": {
        "id": "G4jCIprAQV0u",
        "colab_type": "code",
        "colab": {}
      },
      "source": [
        "worklist_prioritized = worklist.sort_values(by=['max_prob'],ascending=False)\n",
        "worklist_prioritized.head()"
      ],
      "execution_count": 0,
      "outputs": []
    },
    {
      "cell_type": "code",
      "metadata": {
        "id": "S7f3kvnaQV0z",
        "colab_type": "code",
        "colab": {}
      },
      "source": [
        "worklist_prioritized['time_to_read_prioritized'] = np.arange(6, 6*(len(worklist)+1),6)"
      ],
      "execution_count": 0,
      "outputs": []
    },
    {
      "cell_type": "code",
      "metadata": {
        "id": "QNBo3m1HQV01",
        "colab_type": "code",
        "colab": {}
      },
      "source": [
        "worklist_prioritized['time_delta'] = worklist_prioritized['time_to_read'] - worklist_prioritized['time_to_read_prioritized']\n",
        "worklist_prioritized.head()"
      ],
      "execution_count": 0,
      "outputs": []
    },
    {
      "cell_type": "markdown",
      "metadata": {
        "id": "Ml5cq94tQV06",
        "colab_type": "text"
      },
      "source": [
        "Now, I want to find places where my algorithm saved at least 30 minutes for brain bleeds:"
      ]
    },
    {
      "cell_type": "code",
      "metadata": {
        "id": "CLTgOMiMQV07",
        "colab_type": "code",
        "colab": {}
      },
      "source": [
        "worklist_prioritized[((worklist_prioritized.time_delta>30)&(worklist_prioritized.Image_Type=='head_ct'))]"
      ],
      "execution_count": 0,
      "outputs": []
    },
    {
      "cell_type": "markdown",
      "metadata": {
        "id": "goM2P324QV09",
        "colab_type": "text"
      },
      "source": [
        "Looks like there are 14 head CTs that were read more than 30 minutes faster than their original order. All but the last three had a probability of brain bleed < 0.4."
      ]
    },
    {
      "cell_type": "markdown",
      "metadata": {
        "id": "Jhu6GHYKQV09",
        "colab_type": "text"
      },
      "source": [
        "Do the same analysis for saving at least 15 minutes with aortic dissections: "
      ]
    },
    {
      "cell_type": "code",
      "metadata": {
        "id": "XHgbGqONQV0-",
        "colab_type": "code",
        "colab": {}
      },
      "source": [
        "worklist_prioritized[((worklist_prioritized.time_delta>=15)&(worklist_prioritized.Image_Type=='chest_xray'))]"
      ],
      "execution_count": 0,
      "outputs": []
    },
    {
      "cell_type": "code",
      "metadata": {
        "id": "3iCVdPpFQV1A",
        "colab_type": "code",
        "colab": {}
      },
      "source": [
        "len(worklist_prioritized[((worklist_prioritized.time_delta>=15)&(worklist_prioritized.Image_Type=='chest_xray'))])"
      ],
      "execution_count": 0,
      "outputs": []
    },
    {
      "cell_type": "markdown",
      "metadata": {
        "id": "q5AWqnBPQV1D",
        "colab_type": "text"
      },
      "source": [
        "Looks like there are 28 chest x-rays that were read more than 15 minutes faster than their original order. All but the last nine had a probability of aortic dissection < 0.4."
      ]
    },
    {
      "cell_type": "markdown",
      "metadata": {
        "id": "XxWQ859xQV1D",
        "colab_type": "text"
      },
      "source": [
        "Finally, I'll take a look at anywhere that my algorithm made brain bleeds or aortic dissections with a probability of 0.5 or higher be read _slower._"
      ]
    },
    {
      "cell_type": "code",
      "metadata": {
        "id": "7OII6N_AQV1D",
        "colab_type": "code",
        "colab": {}
      },
      "source": [
        "worklist_prioritized[((worklist_prioritized.time_delta<0)&(worklist_prioritized.max_prob>=0.5))]"
      ],
      "execution_count": 0,
      "outputs": []
    },
    {
      "cell_type": "markdown",
      "metadata": {
        "id": "QJtLKhvKQV1G",
        "colab_type": "text"
      },
      "source": [
        "Looks like there were two cases where my algorithm caused an image to be read slower than the priority order it came in. Given that I had images with probabilities <0.5 that were read faster, it is definitely possible to improve my algorithm by adding some more heuristics. "
      ]
    },
    {
      "cell_type": "code",
      "metadata": {
        "id": "sTfUyQ74QV1G",
        "colab_type": "code",
        "colab": {}
      },
      "source": [
        ""
      ],
      "execution_count": 0,
      "outputs": []
    }
  ]
}