{
  "nbformat": 4,
  "nbformat_minor": 0,
  "metadata": {
    "kernelspec": {
      "display_name": "Python 3",
      "language": "python",
      "name": "python3"
    },
    "language_info": {
      "codemirror_mode": {
        "name": "ipython",
        "version": 3
      },
      "file_extension": ".py",
      "mimetype": "text/x-python",
      "name": "python",
      "nbconvert_exporter": "python",
      "pygments_lexer": "ipython3",
      "version": "3.7.4"
    },
    "colab": {
      "name": "AI4M_C3_M2_lecture_notebook_clean.ipynb",
      "provenance": [],
      "collapsed_sections": [],
      "include_colab_link": true
    }
  },
  "cells": [
    {
      "cell_type": "markdown",
      "metadata": {
        "id": "view-in-github",
        "colab_type": "text"
      },
      "source": [
        "<a href=\"https://colab.research.google.com/github/anhle/AI_for_Medicine_Specification/blob/master/AI_treatment/week2/AI4M_C3_M2_lecture_notebook_clean.ipynb\" target=\"_parent\"><img src=\"https://colab.research.google.com/assets/colab-badge.svg\" alt=\"Open In Colab\"/></a>"
      ]
    },
    {
      "cell_type": "markdown",
      "metadata": {
        "id": "SwB1flTDguk4",
        "colab_type": "text"
      },
      "source": [
        "## AI for Medicine Course 3 Week 2 lecture notebook - Cleaning Text"
      ]
    },
    {
      "cell_type": "markdown",
      "metadata": {
        "id": "iE6U3lgLguk5",
        "colab_type": "text"
      },
      "source": [
        "For this notebook you'll be using the `re` module, which is part of Python's Standard Library and provides support for regular expressions (which you may know as `regexp`). \n",
        "- If you aren't familiar with `regexp`, we recommend checking the [documentation](https://docs.python.org/3/library/re.html).\n",
        "\n",
        "Regular expressions allow you to perform searches and replacements in strings based on patterns.  Let's start by looking at some examples.\n",
        "\n",
        "You'll be using the search method, which looks like this: \n",
        "\n",
        "```python\n",
        "search(pattern, text)\n",
        "```\n",
        "It will output a match if one is found, or None otherwise.\n",
        "\n",
        "For the following three examples, you'll try to match the pattern to the string \"Pleural Effusion.\" Take note of these special characters:\n",
        "\n",
        "- ^ denotes \"starts with\" followed by the pattern\n",
        "- $ denotes \"ends with\" preceded by the pattern\n",
        "- | denotes \"or\" followed by another pattern\n",
        "\n",
        "Go ahead and import the `re` library, then run the following three cells. Can you see why the first two examples output a match, while the third one does not?"
      ]
    },
    {
      "cell_type": "markdown",
      "metadata": {
        "id": "Yngi6P2tguk5",
        "colab_type": "text"
      },
      "source": [
        "### Import Library"
      ]
    },
    {
      "cell_type": "code",
      "metadata": {
        "id": "FmSE4ZoFguk6",
        "colab_type": "code",
        "colab": {}
      },
      "source": [
        "import re"
      ],
      "execution_count": 0,
      "outputs": []
    },
    {
      "cell_type": "markdown",
      "metadata": {
        "id": "FOr8_gwVguk9",
        "colab_type": "text"
      },
      "source": [
        "### Examples of Search Patterns"
      ]
    },
    {
      "cell_type": "code",
      "metadata": {
        "id": "9THmsSUlguk-",
        "colab_type": "code",
        "colab": {},
        "outputId": "f96aaeb6-d36f-483c-9667-e77e06b24137"
      },
      "source": [
        "# Search if string starts with 'Pl' or ends with 'ion'\n",
        "m = re.search(pattern = \"^Pl|ion$\", string = \"Pleural Effusion\")\n",
        "\n",
        "# return the matched string\n",
        "if m:\n",
        "    print(m.group(0))\n",
        "else:\n",
        "    print(None)"
      ],
      "execution_count": 0,
      "outputs": [
        {
          "output_type": "stream",
          "text": [
            "Pl\n"
          ],
          "name": "stdout"
        }
      ]
    },
    {
      "cell_type": "code",
      "metadata": {
        "id": "dA0pR7KIgulC",
        "colab_type": "code",
        "colab": {},
        "outputId": "0763d566-9e46-4f88-88ea-62209d24c267"
      },
      "source": [
        "# Search if string starts with 'Sa' or ends in 'ion'\n",
        "m = re.search(pattern = \"^Sa|ion$\", string = \"Pleural Effusion\")\n",
        "\n",
        "# return the matched string\n",
        "if m:\n",
        "    print(m.group(0))\n",
        "else:\n",
        "    print(None)"
      ],
      "execution_count": 0,
      "outputs": [
        {
          "output_type": "stream",
          "text": [
            "ion\n"
          ],
          "name": "stdout"
        }
      ]
    },
    {
      "cell_type": "code",
      "metadata": {
        "id": "pwcDHQ-dgulF",
        "colab_type": "code",
        "colab": {},
        "outputId": "b6ac6e46-5987-4dd8-f759-86816d0dfea7"
      },
      "source": [
        "# Search if string starts with 'Eff'\n",
        "m = re.search(pattern=\"^Eff\", string=\"Pleural Effusion\")\n",
        "\n",
        "# return the matched string\n",
        "if m:\n",
        "    print(m.group(0))\n",
        "else:\n",
        "    print(None)"
      ],
      "execution_count": 0,
      "outputs": [
        {
          "output_type": "stream",
          "text": [
            "None\n"
          ],
          "name": "stdout"
        }
      ]
    },
    {
      "cell_type": "markdown",
      "metadata": {
        "id": "VWX-NoAJgulI",
        "colab_type": "text"
      },
      "source": [
        "Notice that even though 'Eff' exists in the string, the string does not begin with 'Eff', so there is no match."
      ]
    },
    {
      "cell_type": "markdown",
      "metadata": {
        "id": "NYr8KbbQgulI",
        "colab_type": "text"
      },
      "source": [
        "Now let's try a more advanced example. Your goal here is to match the pattern \"a single letter of the alphabet\" followed by a number.\n",
        "\n",
        "### Characters in a set [a-zA-Z]\n",
        "[ ]\n",
        "\n",
        "- [a-z] matches lowercase letters\n",
        "- [A-Z] matches uppercase letters\n",
        "- [a-zA-Z] matches lowercase and uppercase letters."
      ]
    },
    {
      "cell_type": "markdown",
      "metadata": {
        "id": "aXB1IgstgulJ",
        "colab_type": "text"
      },
      "source": [
        "You can match any lowercase or uppercase single letter followed by '123' like this:"
      ]
    },
    {
      "cell_type": "code",
      "metadata": {
        "id": "EsUSPzsEgulJ",
        "colab_type": "code",
        "colab": {},
        "outputId": "74befb5d-850a-400c-c2cd-4f240fa06337"
      },
      "source": [
        "# Match a letter followed by 123\n",
        "m = re.search(pattern ='[a-zA-Z]123', string = \"99C123\")\n",
        "print(f\"{m.group(0)}\")"
      ],
      "execution_count": 0,
      "outputs": [
        {
          "output_type": "stream",
          "text": [
            "C123\n"
          ],
          "name": "stdout"
        }
      ]
    },
    {
      "cell_type": "markdown",
      "metadata": {
        "id": "7W7g4cJXgulM",
        "colab_type": "text"
      },
      "source": [
        "Notice how the match includes the letter 'C' in C123."
      ]
    },
    {
      "cell_type": "markdown",
      "metadata": {
        "id": "YIpJKjIYgulM",
        "colab_type": "text"
      },
      "source": [
        "### 'Lookbehind' assertion\n",
        "\n",
        "If you want to match the single letter but not include it in the returned match, you can use the lookbehind assertion\n",
        "\n",
        "(?<=...)\n",
        "\n",
        "Here is the documentation for lookbehind:\n",
        "\n",
        ">Matches if the current position in the string is preceded by a match for ... that ends at the current position. This is called a positive lookbehind assertion. (?<=abc)def will find a match in 'abcdef', since the lookbehind will back up 3 characters and check if the contained pattern matches. The contained pattern must only match strings of some fixed length, meaning that abc or a|b are allowed, but a* and a{3,4} are not. Note that patterns which start with positive lookbehind assertions will not match at the beginning of the string being searched; you will most likely want to use the search() function rather than the match() function:\n",
        "\n",
        "Note that you'll need to put `?<=[a-zA-Z]` within parentheses, like this: `(?<=[a-zA-Z])`; otherwise you'll see an error message.\n"
      ]
    },
    {
      "cell_type": "code",
      "metadata": {
        "id": "22Ynp2K5gulN",
        "colab_type": "code",
        "colab": {},
        "outputId": "d5ec7ef6-d180-46e9-ada6-560a6c3f6564"
      },
      "source": [
        "# Match a letter followed by 123, exclude the letter.\n",
        "m = re.search(pattern = '(?<=[a-zA-Z])123', string = \"99C12399\")\n",
        "print(f\"{m.group(0)}\")"
      ],
      "execution_count": 0,
      "outputs": [
        {
          "output_type": "stream",
          "text": [
            "123\n"
          ],
          "name": "stdout"
        }
      ]
    },
    {
      "cell_type": "markdown",
      "metadata": {
        "id": "_AYU_XUMgulQ",
        "colab_type": "text"
      },
      "source": [
        "Notice the difference here.  The match is returned because '123' is preceded by a letter 'C', but the letter 'C' is not returned as part of the matched substring.  You're 'looking back' but not including the lookback as part of the returned substring."
      ]
    },
    {
      "cell_type": "markdown",
      "metadata": {
        "id": "GmPtffwBgulQ",
        "colab_type": "text"
      },
      "source": [
        "### Match 123 followed by a letter\n",
        "\n",
        "Similarly, you can match a letter followed by '123', including the letter."
      ]
    },
    {
      "cell_type": "code",
      "metadata": {
        "id": "de7xYqoBgulR",
        "colab_type": "code",
        "colab": {},
        "outputId": "4e7f3a53-077f-45e0-9a9f-d7bb42e3beb7"
      },
      "source": [
        "# Match 123 followed by a letter\n",
        "m = re.search(pattern = '123[a-zA-Z]', string = \"99123C99\")\n",
        "print(f\"{m.group(0)}\")"
      ],
      "execution_count": 0,
      "outputs": [
        {
          "output_type": "stream",
          "text": [
            "123C\n"
          ],
          "name": "stdout"
        }
      ]
    },
    {
      "cell_type": "markdown",
      "metadata": {
        "id": "R46pk4ijgulT",
        "colab_type": "text"
      },
      "source": [
        "Notice that the letter 'C' is included in the returned match."
      ]
    },
    {
      "cell_type": "markdown",
      "metadata": {
        "id": "XPZ6fQKSgulU",
        "colab_type": "text"
      },
      "source": [
        "### 'Lookahead' assertion\n",
        "\n",
        "Similarly, you can match '123' followed by a letter, but exclude the letter from the match. \n",
        "- You can do this by using the lookahead assertion.\n",
        "(?=...)\n",
        "\n",
        "Here is the documentation:\n",
        ">Matches if ... matches next, but doesn’t consume any of the string. This is called a lookahead assertion. For example, Isaac (?=Asimov) will match 'Isaac ' only if it’s followed by 'Asimov'.\n",
        "\n",
        "Similar to the lookbehind, you'll need to wrap `?=[a-zA-Z]` around parentheses, like this: `(?=[a-zA-Z])`, to avoid an error message."
      ]
    },
    {
      "cell_type": "code",
      "metadata": {
        "id": "5LrgTMQygulU",
        "colab_type": "code",
        "colab": {},
        "outputId": "79d07536-e76f-4571-fa20-ef92e829dab8"
      },
      "source": [
        "# Match 123 followed by a letter, exclude the letter from returned match.\n",
        "m = re.search(pattern = '123(?=[a-zA-Z])', string = \"99123C99\")\n",
        "print(f\"{m.group(0)}\")"
      ],
      "execution_count": 0,
      "outputs": [
        {
          "output_type": "stream",
          "text": [
            "123\n"
          ],
          "name": "stdout"
        }
      ]
    },
    {
      "cell_type": "markdown",
      "metadata": {
        "id": "QLBx4UM9gulW",
        "colab_type": "text"
      },
      "source": [
        "Notice that the returned match does not include the letter."
      ]
    },
    {
      "cell_type": "markdown",
      "metadata": {
        "id": "1jFXRTY-gulX",
        "colab_type": "text"
      },
      "source": [
        "### String Cleaning"
      ]
    },
    {
      "cell_type": "markdown",
      "metadata": {
        "id": "Y_VHKRrTgulY",
        "colab_type": "text"
      },
      "source": [
        "Let's implement a `clean()` function. It should receive a sentence as input, clean it up and then return the clean version of it. \"Cleaning\" in this case refers to:\n",
        "\n",
        "   1. Convert to lowercase only\n",
        "   2. Change \"and/or\" to \"or\"\n",
        "   3. Change \"/\" to \"or\" when used to indicate equality between two words such as tomatos/tomatoes\n",
        "   4. Replace double periods \"..\" with single period \".\"\n",
        "   5. Insert the appropiate space after periods or commas\n",
        "   6. Convert multiple whitespaces to a single whitespace\n",
        "\n",
        "Let's take this one step at a time, and pay attention to how the sentence changes along the way.\n",
        "\n",
        "Here's the sample sentence:"
      ]
    },
    {
      "cell_type": "code",
      "metadata": {
        "id": "8Ns8kI6mgulZ",
        "colab_type": "code",
        "colab": {}
      },
      "source": [
        "# Choose a sentence to be cleaned\n",
        "sentence = \"     BIBASILAR OPACITIES,likely representing bilateral pleural effusions with ATELECTASIS   and/or PNEUMONIA/bronchopneumonia..\""
      ],
      "execution_count": 0,
      "outputs": []
    },
    {
      "cell_type": "markdown",
      "metadata": {
        "id": "jKlAFhP7gulc",
        "colab_type": "text"
      },
      "source": [
        "#### Step 1: lowercase\n",
        "Now, use the built-in `lower()` method to change all characters of a string to lowercase. Quick and easy!"
      ]
    },
    {
      "cell_type": "code",
      "metadata": {
        "id": "o2bjgrMRguld",
        "colab_type": "code",
        "colab": {},
        "outputId": "3267d57a-36f6-4c57-bb37-637cf8044f44"
      },
      "source": [
        "# Convert to all lowercase letters\n",
        "sentence = sentence.lower()\n",
        "sentence"
      ],
      "execution_count": 0,
      "outputs": [
        {
          "output_type": "execute_result",
          "data": {
            "text/plain": [
              "'     bibasilar opacities,likely representing bilateral pleural effusions with atelectasis   and/or pneumonia/bronchopneumonia..'"
            ]
          },
          "metadata": {
            "tags": []
          },
          "execution_count": 10
        }
      ]
    },
    {
      "cell_type": "markdown",
      "metadata": {
        "id": "-6AV8-wBgulf",
        "colab_type": "text"
      },
      "source": [
        "#### Step 2: and/or -> or\n",
        "The `re` module provides the `sub()` method, which substitutes patterns in a string with another string. Here you'll be looking for 'and/or' and replacing it with just 'or'."
      ]
    },
    {
      "cell_type": "code",
      "metadata": {
        "id": "XyuMSDA_gulf",
        "colab_type": "code",
        "colab": {},
        "outputId": "e28eac5e-6cdd-4adb-ac06-abc0089b4c85"
      },
      "source": [
        "sentence = re.sub('and/or', 'or', sentence)\n",
        "sentence"
      ],
      "execution_count": 0,
      "outputs": [
        {
          "output_type": "execute_result",
          "data": {
            "text/plain": [
              "'     bibasilar opacities,likely representing bilateral pleural effusions with atelectasis   or pneumonia/bronchopneumonia..'"
            ]
          },
          "metadata": {
            "tags": []
          },
          "execution_count": 11
        }
      ]
    },
    {
      "cell_type": "markdown",
      "metadata": {
        "id": "BNTI594Yguli",
        "colab_type": "text"
      },
      "source": [
        "#### Step 3: / -> or\n"
      ]
    },
    {
      "cell_type": "code",
      "metadata": {
        "id": "sYCZFFAogulj",
        "colab_type": "code",
        "colab": {},
        "outputId": "b9aabb89-2a45-4a85-f2da-59cb9687db2c"
      },
      "source": [
        "sentence = re.sub('(?<=[a-zA-Z])/(?=[a-zA-Z])', ' or ', sentence)\n",
        "sentence"
      ],
      "execution_count": 0,
      "outputs": [
        {
          "output_type": "execute_result",
          "data": {
            "text/plain": [
              "'     bibasilar opacities,likely representing bilateral pleural effusions with atelectasis   or pneumonia or bronchopneumonia..'"
            ]
          },
          "metadata": {
            "tags": []
          },
          "execution_count": 12
        }
      ]
    },
    {
      "cell_type": "markdown",
      "metadata": {
        "id": "25oubWImgulm",
        "colab_type": "text"
      },
      "source": [
        "#### Step 4: .. -> .\n",
        "\n",
        "When finding a specific string and replacing, you can also use Python's built-in `replace()` method.\n",
        "\n",
        "Otherwise, when matching special characters like `.`, use backslash to specify that you're looking for the actual period character `\\.`"
      ]
    },
    {
      "cell_type": "code",
      "metadata": {
        "id": "Oh2eDHlZgulm",
        "colab_type": "code",
        "colab": {},
        "outputId": "e2a1f2ed-080f-4d6e-b431-c3318cc3d907"
      },
      "source": [
        "# Replace .. with . using re.sub (option 1)\n",
        "tmp1 = re.sub(\"\\.\\.\", \".\", sentence)\n",
        "print(tmp1)\n",
        "\n",
        "# Replace .. with . using string.replace (option 2)\n",
        "tmp2 = sentence.replace('..','.')\n",
        "print(tmp2)"
      ],
      "execution_count": 0,
      "outputs": [
        {
          "output_type": "stream",
          "text": [
            "     bibasilar opacities,likely representing bilateral pleural effusions with atelectasis   or pneumonia or bronchopneumonia.\n",
            "     bibasilar opacities,likely representing bilateral pleural effusions with atelectasis   or pneumonia or bronchopneumonia.\n"
          ],
          "name": "stdout"
        }
      ]
    },
    {
      "cell_type": "code",
      "metadata": {
        "id": "KktrsQ_Ugulo",
        "colab_type": "code",
        "colab": {},
        "outputId": "63fa8179-154d-4a67-f1fa-f2a4419ff410"
      },
      "source": [
        "# Replace .. with . using string.replace\n",
        "sentence = sentence.replace(\"..\", \".\")\n",
        "sentence"
      ],
      "execution_count": 0,
      "outputs": [
        {
          "output_type": "execute_result",
          "data": {
            "text/plain": [
              "'     bibasilar opacities,likely representing bilateral pleural effusions with atelectasis   or pneumonia or bronchopneumonia.'"
            ]
          },
          "metadata": {
            "tags": []
          },
          "execution_count": 14
        }
      ]
    },
    {
      "cell_type": "markdown",
      "metadata": {
        "id": "O2UABQv5gulr",
        "colab_type": "text"
      },
      "source": [
        "#### Step 5: add whitespace after punctuation\n",
        "\n",
        "For step 5, let's use a built-in Python function, `translate()`. \n",
        "- This will return a copy of your string, mapped to a translation table that you define. It's usually used alongside the `maketrans()` method, and you can read about both of them [here](https://docs.python.org/3/library/stdtypes.html#str.translate). "
      ]
    },
    {
      "cell_type": "code",
      "metadata": {
        "id": "O1-knAAvgulr",
        "colab_type": "code",
        "colab": {},
        "outputId": "b5e34870-8f01-4f14-e412-b0fa2cc241af"
      },
      "source": [
        "# Define a dictionary to specify that ! is replaced by !!!\n",
        "# and 's' is replaced by ''\n",
        "translation_dict = {'!': '!!!',\n",
        "                    'z': 's'\n",
        "                   }\n",
        "print(translation_dict)\n",
        "# Create the translation table\n",
        "translation_tbl = str.maketrans(translation_dict)\n",
        "print(translation_tbl)\n"
      ],
      "execution_count": 0,
      "outputs": [
        {
          "output_type": "stream",
          "text": [
            "{'!': '!!!', 'z': 's'}\n",
            "{33: '!!!', 122: 's'}\n"
          ],
          "name": "stdout"
        }
      ]
    },
    {
      "cell_type": "markdown",
      "metadata": {
        "id": "ZuSkwb2Rgult",
        "colab_type": "text"
      },
      "source": [
        "Note that each key in the dictionary should be a character of length 1 (the key can't be a word of length 2 or more)."
      ]
    },
    {
      "cell_type": "code",
      "metadata": {
        "id": "cAlb5am7gulu",
        "colab_type": "code",
        "colab": {},
        "outputId": "b3ec0afb-59ee-479a-80e1-5f6f44e8dc2e"
      },
      "source": [
        "# Choose a string to be translated\n",
        "tmp_str = \"colonization, realization, organization!\"\n",
        "print(tmp_str)\n",
        "\n",
        "# Translate the string using the translation table\n",
        "tmp_str2 = tmp_str.translate(translation_tbl)\n",
        "print(tmp_str2)"
      ],
      "execution_count": 0,
      "outputs": [
        {
          "output_type": "stream",
          "text": [
            "colonization, realization, organization!\n",
            "colonisation, realisation, organisation!!!\n"
          ],
          "name": "stdout"
        }
      ]
    },
    {
      "cell_type": "markdown",
      "metadata": {
        "id": "muMJdK5Wgulw",
        "colab_type": "text"
      },
      "source": [
        "Notice how z is replaced by s, and ! is replaced by !!!"
      ]
    },
    {
      "cell_type": "markdown",
      "metadata": {
        "id": "YDcnkPfHgulw",
        "colab_type": "text"
      },
      "source": [
        "Add whitespace after punctuation.\n",
        "- Now apply this to replace '.' with '. ', where the period is followed by a whitespace.\n",
        "- Similarly, replace ',' with ', ', so that the comma is followed by a whitespace."
      ]
    },
    {
      "cell_type": "code",
      "metadata": {
        "id": "LqdqeIPwgulx",
        "colab_type": "code",
        "colab": {},
        "outputId": "ca5c70ff-88d1-453e-c63b-f141166a5cfb"
      },
      "source": [
        "# Creat translation table using a dictionary comprehension\n",
        "translation_dict = {key: f\"{key} \" for key in \".,\"}\n",
        "\n",
        "# View the translation dictionary\n",
        "display(translation_dict)\n",
        "\n",
        "# View the translation dictionary with some formatting for easier reading\n",
        "# Use vertical bars to help see the whitespace more easily.\n",
        "for key, val in translation_dict.items():\n",
        "    print(f\"key: |{key}| \\tval:|{val}|\")"
      ],
      "execution_count": 0,
      "outputs": [
        {
          "output_type": "display_data",
          "data": {
            "text/plain": [
              "{'.': '. ', ',': ', '}"
            ]
          },
          "metadata": {
            "tags": []
          }
        },
        {
          "output_type": "stream",
          "text": [
            "key: |.| \tval:|. |\n",
            "key: |,| \tval:|, |\n"
          ],
          "name": "stdout"
        }
      ]
    },
    {
      "cell_type": "code",
      "metadata": {
        "id": "uimx1jZ4gulz",
        "colab_type": "code",
        "colab": {},
        "outputId": "d7831666-2623-4d14-a264-8e8188439a52"
      },
      "source": [
        "# Create the translation table using the translation dictionary\n",
        "punctuation_spacer = str.maketrans(translation_dict)\n",
        "\n",
        "# Apply the translation table to add whitespace after punctuation\n",
        "sentence = sentence.translate(punctuation_spacer)\n",
        "sentence"
      ],
      "execution_count": 0,
      "outputs": [
        {
          "output_type": "execute_result",
          "data": {
            "text/plain": [
              "'worrisome nodule in the Right Upper  lobe. CANNOT exclude neoplasm. . '"
            ]
          },
          "metadata": {
            "tags": []
          },
          "execution_count": 26
        }
      ]
    },
    {
      "cell_type": "markdown",
      "metadata": {
        "id": "iL8Rv0m3gul1",
        "colab_type": "text"
      },
      "source": [
        "#### Step 6: trim whitespace\n",
        "\n",
        "Nice! For step 6, you can trim multiple whitespaces with Python's `join()` method. Sidenote: This can be also done using `regexp`."
      ]
    },
    {
      "cell_type": "code",
      "metadata": {
        "id": "9lwel6Oigul2",
        "colab_type": "code",
        "colab": {},
        "outputId": "80e86a8a-f8c7-4a9f-8095-122137be085b"
      },
      "source": [
        "# Split the string using whitespace as the delimiter\n",
        "# This removes all whitespace between words\n",
        "sentence_list = sentence.split()\n",
        "sentence_list"
      ],
      "execution_count": 0,
      "outputs": [
        {
          "output_type": "execute_result",
          "data": {
            "text/plain": [
              "['worrisome',\n",
              " 'nodule',\n",
              " 'in',\n",
              " 'the',\n",
              " 'Right',\n",
              " 'Upper',\n",
              " 'lobe.',\n",
              " 'CANNOT',\n",
              " 'exclude',\n",
              " 'neoplasm.',\n",
              " '.']"
            ]
          },
          "metadata": {
            "tags": []
          },
          "execution_count": 27
        }
      ]
    },
    {
      "cell_type": "code",
      "metadata": {
        "id": "6-myTf0Cgul4",
        "colab_type": "code",
        "colab": {},
        "outputId": "ab84cde3-5941-4e84-e2ac-e56ab4287422"
      },
      "source": [
        "# Join the tokens with a single whitespace.\n",
        "# This ensures that there is a single whitespace between words\n",
        "sentence = ' '.join(sentence_list)\n",
        "sentence"
      ],
      "execution_count": 0,
      "outputs": [
        {
          "output_type": "execute_result",
          "data": {
            "text/plain": [
              "'worrisome nodule in the Right Upper lobe. CANNOT exclude neoplasm. .'"
            ]
          },
          "metadata": {
            "tags": []
          },
          "execution_count": 28
        }
      ]
    },
    {
      "cell_type": "markdown",
      "metadata": {
        "id": "Oi0xvWmpgul6",
        "colab_type": "text"
      },
      "source": [
        "The sentence is now cleaner and easier to work with!"
      ]
    },
    {
      "cell_type": "markdown",
      "metadata": {
        "id": "hP7QriZYgul7",
        "colab_type": "text"
      },
      "source": [
        "### Putting it all together\n",
        "\n",
        "Now you can put all that together into a function and test this implementation on more sentences."
      ]
    },
    {
      "cell_type": "code",
      "metadata": {
        "id": "5jyeOC17gul7",
        "colab_type": "code",
        "colab": {},
        "outputId": "caa96a72-a444-48a7-df56-f9735eade187"
      },
      "source": [
        "def clean(sentence):\n",
        "    lower_sentence = sentence.lower()\n",
        "    corrected_sentence = re.sub('and/or', 'or', lower_sentence)\n",
        "    corrected_sentence = re.sub('(?<=[a-zA-Z])/(?=[a-zA-Z])', ' or ', corrected_sentence)\n",
        "    clean_sentence = corrected_sentence.replace(\"..\", \".\")\n",
        "    punctuation_spacer = str.maketrans({key: f\"{key} \" for key in \".,\"})\n",
        "    clean_sentence = clean_sentence.translate(punctuation_spacer)\n",
        "    clean_sentence = ' '.join(clean_sentence.split())\n",
        "    return clean_sentence\n",
        "\n",
        "sentences = [\"     BIBASILAR OPACITIES,likely representing bilateral pleural effusions with ATELECTASIS   and/or PNEUMONIA..\",\n",
        "             \"Small left pleural effusion/decreased lung volumes bilaterally.left RetroCardiac Atelectasis.\",\n",
        "             \"PA  and lateral views of the chest demonstrate   clear lungs,with NO focal air space opacity and/or pleural effusion.\",\n",
        "             \"worrisome nodule in the Right Upper  lobe.CANNOT exclude neoplasm..\"]\n",
        "\n",
        "for n, sentence in enumerate(sentences):\n",
        "    print(\"\\n##########################\\n\")\n",
        "    print(f\"Sentence number: {n+1}\")\n",
        "    print(f\"Raw sentence: \\n{sentence}\")\n",
        "    print(f\"Cleaned sentence: \\n{clean(sentence)}\")"
      ],
      "execution_count": 0,
      "outputs": [
        {
          "output_type": "stream",
          "text": [
            "\n",
            "##########################\n",
            "\n",
            "Sentence number: 1\n",
            "Raw sentence: \n",
            "     BIBASILAR OPACITIES,likely representing bilateral pleural effusions with ATELECTASIS   and/or PNEUMONIA..\n",
            "Cleaned sentence: \n",
            "bibasilar opacities, likely representing bilateral pleural effusions with atelectasis or pneumonia.\n",
            "\n",
            "##########################\n",
            "\n",
            "Sentence number: 2\n",
            "Raw sentence: \n",
            "Small left pleural effusion/decreased lung volumes bilaterally.left RetroCardiac Atelectasis.\n",
            "Cleaned sentence: \n",
            "small left pleural effusion or decreased lung volumes bilaterally. left retrocardiac atelectasis.\n",
            "\n",
            "##########################\n",
            "\n",
            "Sentence number: 3\n",
            "Raw sentence: \n",
            "PA  and lateral views of the chest demonstrate   clear lungs,with NO focal air space opacity and/or pleural effusion.\n",
            "Cleaned sentence: \n",
            "pa and lateral views of the chest demonstrate clear lungs, with no focal air space opacity or pleural effusion.\n",
            "\n",
            "##########################\n",
            "\n",
            "Sentence number: 4\n",
            "Raw sentence: \n",
            "worrisome nodule in the Right Upper  lobe.CANNOT exclude neoplasm..\n",
            "Cleaned sentence: \n",
            "worrisome nodule in the right upper lobe. cannot exclude neoplasm.\n"
          ],
          "name": "stdout"
        }
      ]
    },
    {
      "cell_type": "markdown",
      "metadata": {
        "id": "_GZyAmhJgul9",
        "colab_type": "text"
      },
      "source": [
        "### Congratulations \n",
        "Congratulations on finishing this lecture notebook!** By now, you should have a better grasp of `regexp` along with some built-in Python methods for cleaning text. You'll be seeing the `clean()` function again in the upcoming graded assignment. Good luck and have fun! "
      ]
    },
    {
      "cell_type": "code",
      "metadata": {
        "id": "pLPvm_I2gul-",
        "colab_type": "code",
        "colab": {}
      },
      "source": [
        ""
      ],
      "execution_count": 0,
      "outputs": []
    }
  ]
}