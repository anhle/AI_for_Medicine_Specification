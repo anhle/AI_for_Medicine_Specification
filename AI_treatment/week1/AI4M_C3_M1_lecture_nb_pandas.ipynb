{
  "nbformat": 4,
  "nbformat_minor": 0,
  "metadata": {
    "kernelspec": {
      "display_name": "Python 3",
      "language": "python",
      "name": "python3"
    },
    "language_info": {
      "codemirror_mode": {
        "name": "ipython",
        "version": 3
      },
      "file_extension": ".py",
      "mimetype": "text/x-python",
      "name": "python",
      "nbconvert_exporter": "python",
      "pygments_lexer": "ipython3",
      "version": "3.6.3"
    },
    "colab": {
      "name": "AI4M_C3_M1_lecture_nb_pandas.ipynb",
      "provenance": [],
      "collapsed_sections": [],
      "toc_visible": true,
      "include_colab_link": true
    }
  },
  "cells": [
    {
      "cell_type": "markdown",
      "metadata": {
        "id": "view-in-github",
        "colab_type": "text"
      },
      "source": [
        "<a href=\"https://colab.research.google.com/github/anhle/AI_for_Medicine_Specification/blob/master/AI_treatment/week1/AI4M_C3_M1_lecture_nb_pandas.ipynb\" target=\"_parent\"><img src=\"https://colab.research.google.com/assets/colab-badge.svg\" alt=\"Open In Colab\"/></a>"
      ]
    },
    {
      "cell_type": "markdown",
      "metadata": {
        "id": "5K0X_wRshE1S",
        "colab_type": "text"
      },
      "source": [
        "## AI for Medicine Course 3 Week 1 lecture notebook\n",
        "## Pandas for a Medical Dataset"
      ]
    },
    {
      "cell_type": "markdown",
      "metadata": {
        "id": "y_C3aFgchE1T",
        "colab_type": "text"
      },
      "source": [
        "Welcome to this lecture notebook!  In this week's graded assignment, you will be using pandas quite often to work with dataframes.\n",
        "- To get you ready for assignment, you'll familiarize yourself with some objects in the `pandas` library, along with their data types.\n",
        "- Then you'll see how you can leverage pandas to get information from a dataset."
      ]
    },
    
    {
      "cell_type": "markdown",
      "metadata": {
        "id": "7ueedS--hE1T",
        "colab_type": "text"
      },
      "source": [
        "### Import Library"
      ]
    },
    {
      "cell_type": "code",
      "metadata": {
        "id": "9dWFO13YhE1U",
        "colab_type": "code",
        "colab": {}
      },
      "source": [
        "# import libraries\n",
        "import pandas as pd"
      ],
      "execution_count": 0,
      "outputs": []
    },
    {
      "cell_type": "markdown",
      "metadata": {
        "id": "BEllV4gWhE1X",
        "colab_type": "text"
      },
      "source": [
        "### Load your data and check its shape\n",
        "\n",
        "pandas.read_csv takes in a file name, assuming that the file is formatted as comma separated values (csv).\n",
        "- You can choose one of the columns to be the row 'index', which is an ID associated with each row."
      ]
    },
    {
      "cell_type": "code",
      "metadata": {
        "id": "wWhJZdQxhE1Y",
        "colab_type": "code",
        "colab": {}
      },
      "source": [
        "# Read the csv data, setting the 0th column as the row index\n",
        "data = pd.read_csv(\"https://raw.githubusercontent.com/anhle/AI_for_Medicine_Specification/master/AI_treatment/week1/dummy_data.csv\", index_col=0)\n",
        "\n",
        "# Display the data's number of rows and columns\n",
        "print(f\"Data has {data.shape[0]} rows and {data.shape[1]} columns.\\n\")\n",
        "data.head()"
      ],
      "execution_count": 0,
      "outputs": []
    },
    {
      "cell_type": "markdown",
      "metadata": {
        "id": "a3BgFhhBhE1a",
        "colab_type": "text"
      },
      "source": [
        "Below is a description of all the fields:\n",
        "- `sex (binary): 1 if Male, 0 otherwise`\n",
        "- `age (int): age of patient at start of the study`\n",
        "- `obstruct (binary): obstruction of colon by tumor`\n",
        "- `outcome (binary): 1 if died within 5 years`\n",
        "- `TRTMT (binary): patient was treated`"
      ]
    },
    {
      "cell_type": "markdown",
      "metadata": {
        "id": "RUUXvq56hE1a",
        "colab_type": "text"
      },
      "source": [
        "### Introducing the DataFrame"
      ]
    },
    {
      "cell_type": "code",
      "metadata": {
        "id": "LiIoGhuehE1b",
        "colab_type": "code",
        "colab": {}
      },
      "source": [
        "# show the data type of the dataframe\n",
        "print(type(data))"
      ],
      "execution_count": 0,
      "outputs": []
    },
    {
      "cell_type": "markdown",
      "metadata": {
        "id": "L37SR9nBhE1d",
        "colab_type": "text"
      },
      "source": [
        "You can see that your data is of type `DataFrame`. A `DataFrame` is a two-dimensional, labeled data structure with columns that can be of different data types. Dataframes are a great way to organize your data, and are the most common object in `pandas`. If you are unfamiliar with them, check the official [documentation](https://pandas.pydata.org/pandas-docs/stable/index.html)."
      ]
    },
    {
      "cell_type": "markdown",
      "metadata": {
        "id": "CtZ1x7PnhE1e",
        "colab_type": "text"
      },
      "source": [
        "In case you're only interested in a single column (or feature) of the data, access that single column by using the \".\" dot notation, in which you specify the dataframe followed by a dot and the name of the column you are interested in, like this:"
      ]
    },
    {
      "cell_type": "code",
      "metadata": {
        "id": "06rzfuoUhE1e",
        "colab_type": "code",
        "colab": {}
      },
      "source": [
        "data.TRTMT.head()"
      ],
      "execution_count": 0,
      "outputs": []
    },
    {
      "cell_type": "markdown",
      "metadata": {
        "id": "-T8disGBhE1g",
        "colab_type": "text"
      },
      "source": [
        "Notice the `head()` method. This method prints only the first five rows, so the output of the cell can be quickly and easily read. Try removing it and see what happens."
      ]
    },
    {
      "cell_type": "markdown",
      "metadata": {
        "id": "nPrvXGVhhE1h",
        "colab_type": "text"
      },
      "source": [
        "### Introducing the Series"
      ]
    },
    {
      "cell_type": "code",
      "metadata": {
        "id": "EcdT8bx1hE1h",
        "colab_type": "code",
        "colab": {}
      },
      "source": [
        "print(type(data.TRTMT))"
      ],
      "execution_count": 0,
      "outputs": []
    },
    {
      "cell_type": "markdown",
      "metadata": {
        "id": "ZH4wTtZkhE1k",
        "colab_type": "text"
      },
      "source": [
        "Each column of a DataFrame is of type `Series`, which are one-dimensional, labeled arrays that can contain any data type, plus its index. Series are similar to lists in Python, with one important difference: each Series can only contain one type of data. \n",
        "\n",
        "Many of the methods and operations supported by DataFrames are also supported by Series. When in doubt, always check the documentation!\n",
        "\n",
        "There are several ways of accessing a single column of a DataFrame. The methods you're about to see all do the same thing.\n",
        "\n",
        "- Dot notation is simple to type, but doesn't work when the column name has a space.  See some [examples of where dot notation will not work](https://www.dataschool.io/pandas-dot-notation-vs-brackets/).\n",
        "- Bracket notation always works."
      ]
    },
    {
      "cell_type": "code",
      "metadata": {
        "id": "aqng3YHqhE1k",
        "colab_type": "code",
        "colab": {}
      },
      "source": [
        "# Use dot notation to access the TRTMT column\n",
        "data.TRTMT\n",
        "\n",
        "# Use .loc to get all rows using \":\", for column TRTMT\n",
        "data.loc[:,\"TRTMT\"]\n",
        "\n",
        "# Use bracket notation to get the TRTMT column\n",
        "data[\"TRTMT\"]\n",
        "\n",
        "print(data.TRTMT.equals(data.loc[:,\"TRTMT\"]))\n",
        "print(data.TRTMT.equals(data[\"TRTMT\"]))"
      ],
      "execution_count": 0,
      "outputs": []
    },
    {
      "cell_type": "markdown",
      "metadata": {
        "id": "aORkVCPmhE1o",
        "colab_type": "text"
      },
      "source": [
        "### Slicing the DataFrame"
      ]
    },
    {
      "cell_type": "markdown",
      "metadata": {
        "id": "CPatJbZQhE1o",
        "colab_type": "text"
      },
      "source": [
        "Most of the time you'll want a subset (or a slice) of the DataFrame that meets some criteria. For example, if you wanted to analyze all of the features for patients who are 50 years or younger, you can slice the DataFrame like this: "
      ]
    },
    {
      "cell_type": "code",
      "metadata": {
        "id": "5cvcw2fphE1p",
        "colab_type": "code",
        "colab": {}
      },
      "source": [
        "data[data.age <= 50]"
      ],
      "execution_count": 0,
      "outputs": []
    },
    {
      "cell_type": "markdown",
      "metadata": {
        "id": "XfLf7ca9hE1r",
        "colab_type": "text"
      },
      "source": [
        "What if you wanted to filter a DataFrame based on multiple conditions? \n",
        "- To do this, use the \"&\" as the 'and' operator.  Don't use `and`.\n",
        "- You can use '|' as the 'or' operator.  Don't use `or`.\n",
        "\n",
        "```CPP\n",
        "# Trying to combine two conditions using `and` won't work\n",
        "data[(data.age <= 50) and (data.TRTMT == True)]\n",
        "\n",
        "ValueError: The truth value of a Series is ambiguous. Use a.empty, a.bool(), a.item(), a.any() or a.all().\n",
        "```\n",
        "\n",
        "- Don't forget the parentheses around each condition!\n",
        "- Without parentheses, this won't work.\n",
        "\n",
        "```CPP\n",
        "# Trying to combine two conditions without parentheses results in an error\n",
        "data[ data.age <= 50 & data.TRTMT == True]\n",
        "\n",
        "ValueError: The truth value of a Series is ambiguous. Use a.empty, a.bool(), a.item(), a.any() or a.all().\n",
        "```"
      ]
    },
    {
      "cell_type": "code",
      "metadata": {
        "id": "iQ4d3235hE1s",
        "colab_type": "code",
        "colab": {}
      },
      "source": [
        "# Get patients aged 50 or less who received treatment\n",
        "data[(data.age <= 50) & (data.TRTMT == True)]"
      ],
      "execution_count": 0,
      "outputs": []
    },
    {
      "cell_type": "markdown",
      "metadata": {
        "id": "R8sJy-e8hE1t",
        "colab_type": "text"
      },
      "source": [
        "When slicing a DataFrame the resulting type will be a DataFrame as well:"
      ]
    },
    {
      "cell_type": "code",
      "metadata": {
        "id": "JgdXqFTDhE1u",
        "colab_type": "code",
        "colab": {}
      },
      "source": [
        "type(data[(data.age <= 50) & (data.TRTMT == True)])"
      ],
      "execution_count": 0,
      "outputs": []
    },
    {
      "cell_type": "markdown",
      "metadata": {
        "id": "WKsKd8wnhE1w",
        "colab_type": "text"
      },
      "source": [
        "### More Advanced Operations"
      ]
    },
    {
      "cell_type": "markdown",
      "metadata": {
        "id": "bkCMVexyhE1x",
        "colab_type": "text"
      },
      "source": [
        "Now let's dive into some useful properties of DataFrames and Series that allow for more advanced calculations."
      ]
    },
    {
      "cell_type": "code",
      "metadata": {
        "id": "zR-ONjLShE1x",
        "colab_type": "code",
        "colab": {}
      },
      "source": [
        "# Applying len() to the df yields the number of rows\n",
        "print(f\"len: {len(data[(data.age <= 50)])}\")\n",
        "\n",
        "# Accessing the 'shape' attribute of the df yields a tuple of the form (rows, cols)\n",
        "print(f\"shape (rows, cols) {data[(data.age <= 50)].shape}\")\n",
        "\n",
        "# Accessing the 'size' attribute of the df yields the number of elements in the df:\n",
        "print(f\"size: {data[(data.age <= 50)].size}\")"
      ],
      "execution_count": 0,
      "outputs": []
    },
    {
      "cell_type": "code",
      "metadata": {
        "id": "gQjx-jNwhE1z",
        "colab_type": "code",
        "colab": {}
      },
      "source": [
        "# Applying len() to the df yields the number of rows\n",
        "print(f\"{len(data.TRTMT)}\")\n",
        "\n",
        "# Accessing the 'shape' attribute of the df yields a tuple of the form (rows, cols)\n",
        "print(f\"{data.TRTMT.shape}\")\n",
        "\n",
        "# Accessing the 'size' attribute of the df yields the number of elements in the df:\n",
        "print(f\"{data.TRTMT.size}\")"
      ],
      "execution_count": 0,
      "outputs": []
    },
    {
      "cell_type": "markdown",
      "metadata": {
        "id": "CaHHL41qhE11",
        "colab_type": "text"
      },
      "source": [
        "### Exercise"
      ]
    },
    {
      "cell_type": "markdown",
      "metadata": {
        "id": "wawJAfUyhE12",
        "colab_type": "text"
      },
      "source": [
        "Using what you've seen so far, can you calculate the proportion of the patients who are male?"
      ]
    },
    {
      "cell_type": "code",
      "metadata": {
        "id": "5ddiVgdthE12",
        "colab_type": "code",
        "colab": {}
      },
      "source": [
        "prop_male_patients = len(data[data.sex == 1])/len(data.sex)\n",
        "print(f\"Your answer: {prop_male_patients}, Expected: {21/50}\")"
      ],
      "execution_count": 0,
      "outputs": []
    },
    {
      "cell_type": "markdown",
      "metadata": {
        "id": "FN1rNlqohE14",
        "colab_type": "text"
      },
      "source": [
        "### mean( ) Method"
      ]
    },
    {
      "cell_type": "markdown",
      "metadata": {
        "id": "a4oSkQolhE15",
        "colab_type": "text"
      },
      "source": [
        "One handy hack you can use when dealing with binary data is to use the `mean()` method of a Series to calculate the proportion of occurrences that are equal to 1. \n",
        "\n",
        "Note this should also work with bool data since Python treats booleans as numbers when applying math operations.  \n",
        "- `True` is treated as the number `1`\n",
        "- `False` is treated as the number `0`"
      ]
    },
    {
      "cell_type": "code",
      "metadata": {
        "id": "zGohXQ0chE15",
        "colab_type": "code",
        "colab": {}
      },
      "source": [
        "# Calculate the proportion of the `sex` column that is `True` (1).\n",
        "data.sex.mean()"
      ],
      "execution_count": 0,
      "outputs": []
    },
    {
      "cell_type": "markdown",
      "metadata": {
        "id": "t-FxP6WVhE17",
        "colab_type": "text"
      },
      "source": [
        "### Updating Values"
      ]
    },
    {
      "cell_type": "markdown",
      "metadata": {
        "id": "ff7amEs3hE18",
        "colab_type": "text"
      },
      "source": [
        "So far you've only accessed values of a DataFrame or Series. Sometimes you may need to update these values. \n",
        "\n",
        "Let's look at the original DataFrame one more time:"
      ]
    },
    {
      "cell_type": "code",
      "metadata": {
        "id": "qiB1AjTthE18",
        "colab_type": "code",
        "colab": {}
      },
      "source": [
        "# View dataframe\n",
        "data.head()"
      ],
      "execution_count": 0,
      "outputs": []
    },
    {
      "cell_type": "markdown",
      "metadata": {
        "id": "rEmd1grFhE1-",
        "colab_type": "text"
      },
      "source": [
        "Let's say you detected an error in the data, where the second patient was actually treated. \n",
        "- To update the data, you can use .loc[row, col] and specify the row and column you want to update.\n",
        "- Notice that because the dataframe's index is defined, the first row is at index 1 and not 0.\n",
        "- If the index was not set, then indexing would start at 0.\n",
        "\n",
        "\n",
        "```CPP\n",
        "# Try to access patient 0, and note the error message\n",
        "data.loc[0,'TRTMT']\n",
        "\n",
        "KeyError: 0\n",
        "```"
      ]
    },
    {
      "cell_type": "code",
      "metadata": {
        "id": "X4Vnh2r2hE1-",
        "colab_type": "code",
        "colab": {}
      },
      "source": [
        "data.loc[2,'TRTMT']"
      ],
      "execution_count": 0,
      "outputs": []
    },
    {
      "cell_type": "code",
      "metadata": {
        "id": "aIJuOzUvhE2A",
        "colab_type": "code",
        "colab": {}
      },
      "source": [
        "data.loc[2, \"TRTMT\"] = True\n",
        "data.head()"
      ],
      "execution_count": 0,
      "outputs": []
    },
    {
      "cell_type": "markdown",
      "metadata": {
        "id": "NmZFDov6hE2C",
        "colab_type": "text"
      },
      "source": [
        "Now, you've found out that there was another issue with the data that needs to be corrected. This study only includes females, so the `sex` column should be set to 0 for all patients.\n",
        "\n",
        "You can update the whole column (or Series) using .loc[row, col] once again, but this time using \":\" for rows."
      ]
    },
    {
      "cell_type": "code",
      "metadata": {
        "id": "jvDWtIcXhE2C",
        "colab_type": "code",
        "colab": {}
      },
      "source": [
        "data.loc[:, \"sex\"] = 0\n",
        "data.head()"
      ],
      "execution_count": 0,
      "outputs": []
    },
    {
      "cell_type": "markdown",
      "metadata": {
        "id": "NGY6wOTdhE2E",
        "colab_type": "text"
      },
      "source": [
        "You can access a range of rows by specifying the `start:end`, where the `end` index is included.\n",
        "- Note that the range is inclusive of the end (other functions in Python exclude the end of the range from the output)."
      ]
    },
    {
      "cell_type": "code",
      "metadata": {
        "id": "fXhMVYjvhE2E",
        "colab_type": "code",
        "colab": {}
      },
      "source": [
        "# Access patients at index 3 to 4, including 4.\n",
        "data.loc[3:4,:]"
      ],
      "execution_count": 0,
      "outputs": []
    },
    {
      "cell_type": "markdown",
      "metadata": {
        "id": "iUNNxcyShE2G",
        "colab_type": "text"
      },
      "source": [
        "#### Congratulations, you have completed this lecture notebook!\n",
        "\n",
        "Welcome to the wonderful world of Pandas!  You will be using these pandas functions in this week's graded assignment."
      ]
    },
    {
      "cell_type": "code",
      "metadata": {
        "id": "6g22STTBhE2G",
        "colab_type": "code",
        "colab": {}
      },
      "source": [
        ""
      ],
      "execution_count": 0,
      "outputs": []
    }
  ]
}
