{
  "nbformat": 4,
  "nbformat_minor": 0,
  "metadata": {
    "kernelspec": {
      "display_name": "Python 3",
      "language": "python",
      "name": "python3"
    },
    "language_info": {
      "codemirror_mode": {
        "name": "ipython",
        "version": 3
      },
      "file_extension": ".py",
      "mimetype": "text/x-python",
      "name": "python",
      "nbconvert_exporter": "python",
      "pygments_lexer": "ipython3",
      "version": "3.6.3"
    },
    "colab": {
      "name": "AI4M_C3_M3_lecture_notebook_permutation_method.ipynb",
      "provenance": [],
      "toc_visible": true,
      "include_colab_link": true
    }
  },
  "cells": [
    {
      "cell_type": "markdown",
      "metadata": {
        "id": "view-in-github",
        "colab_type": "text"
      },
      "source": [
        "<a href=\"https://colab.research.google.com/github/anhle/AI_for_Medicine_Specification/blob/master/AI_treatment/week3/AI4M_C3_M3_lecture_notebook_permutation_method.ipynb\" target=\"_parent\"><img src=\"https://colab.research.google.com/assets/colab-badge.svg\" alt=\"Open In Colab\"/></a>"
      ]
    },
    {
      "cell_type": "markdown",
      "metadata": {
        "id": "zpI8_pMY-TMQ",
        "colab_type": "text"
      },
      "source": [
        "# Course 3 Week 3 lecture notebook 01\n",
        "# Permutation Method"
      ]
    },
    {
      "cell_type": "markdown",
      "metadata": {
        "id": "yuj57StB-TMR",
        "colab_type": "text"
      },
      "source": [
        "In this lecture notebook, we'll demonstrate the permutation method on a dataset you worked on in Week 1 of Course 2. By going through this short exercise, you'll hopefully develop some intuition on how to do the related task in this week's programming assignment."
      ]
    },
    {
      "cell_type": "markdown",
      "metadata": {
        "id": "CxPLI0sr-TMS",
        "colab_type": "text"
      },
      "source": [
        "## Setup"
      ]
    },
    {
      "cell_type": "code",
      "metadata": {
        "id": "VWdnmMzfCfTZ",
        "colab_type": "code",
        "colab": {}
      },
      "source": [
        "#!git clone https://github.com/anhle/AI_for_Medicine_Specification.git"
      ],
      "execution_count": 0,
      "outputs": []
    },
    {
      "cell_type": "markdown",
      "metadata": {
        "id": "SLphriq4-TMT",
        "colab_type": "text"
      },
      "source": [
        "First, let's import the packages we'll be using:"
      ]
    },
    {
      "cell_type": "code",
      "metadata": {
        "id": "dfq8Utgq-TMT",
        "colab_type": "code",
        "colab": {}
      },
      "source": [
        "import pandas as pd\n",
        "import pickle\n",
        "import os"
      ],
      "execution_count": 0,
      "outputs": []
    },
    {
      "cell_type": "code",
      "metadata": {
        "id": "JpOr8PhEB8x2",
        "colab_type": "code",
        "colab": {}
      },
      "source": [
        "pip install lifelines"
      ],
      "execution_count": 0,
      "outputs": []
    },
    {
      "cell_type": "code",
      "metadata": {
        "id": "VSCCZqaKB3p3",
        "colab_type": "code",
        "colab": {}
      },
      "source": [
        "import lifelines\n",
        "def cindex(y_true, scores):\n",
        "    return lifelines.utils.concordance_index(y_true, scores)"
      ],
      "execution_count": 0,
      "outputs": []
    },
    {
      "cell_type": "markdown",
      "metadata": {
        "id": "11NU81gJ-TMX",
        "colab_type": "text"
      },
      "source": [
        "Next, we load the model we trained during the said assignment in Course 2. This accepts a patient's age, systolic blood pressure, diastolic blood pressure, and cholesterol to output a risk score (i.e. probability of an event)."
      ]
    },
    {
      "cell_type": "code",
      "metadata": {
        "id": "wZV6SOEb-TMY",
        "colab_type": "code",
        "colab": {}
      },
      "source": [
        "DIR = \"AI_for_Medicine_Specification/AI_treatment/week3\"\n",
        "model_X = pickle.load(open(os.path.join(DIR,'C2M1_model.model'), 'rb'))"
      ],
      "execution_count": 0,
      "outputs": []
    },
    {
      "cell_type": "markdown",
      "metadata": {
        "id": "IsadnMJz-TMa",
        "colab_type": "text"
      },
      "source": [
        "We will also use the same test dataset from that programming assignment:"
      ]
    },
    {
      "cell_type": "code",
      "metadata": {
        "id": "gAz92jZI-TMb",
        "colab_type": "code",
        "colab": {}
      },
      "source": [
        "# patient data (test set in the previous assignment)\n",
        "X_baseline = pd.read_csv(os.path.join(DIR,'lecture_nb_permutation_data/X_data_normalized.csv'),index_col=0)\n",
        "\n",
        "# corresponding patient outcome\n",
        "y = pd.read_csv(os.path.join(DIR,'lecture_nb_permutation_data/X_data_normalized.csv'),index_col=0)"
      ],
      "execution_count": 0,
      "outputs": []
    },
    {
      "cell_type": "markdown",
      "metadata": {
        "id": "E-M0MJ-q-TMd",
        "colab_type": "text"
      },
      "source": [
        "Let's print the first 10 cells to peek into the dataset. Take note that these are already standardized and normalized as you did previously."
      ]
    },
    {
      "cell_type": "code",
      "metadata": {
        "id": "hFJ1LfjL-TMe",
        "colab_type": "code",
        "colab": {}
      },
      "source": [
        "X_baseline.head(10)"
      ],
      "execution_count": 0,
      "outputs": []
    },
    {
      "cell_type": "markdown",
      "metadata": {
        "id": "UB74GPfp-TMi",
        "colab_type": "text"
      },
      "source": [
        "## C-index and Baseline Performance"
      ]
    },
    {
      "cell_type": "markdown",
      "metadata": {
        "id": "74G1EX9G-TMj",
        "colab_type": "text"
      },
      "source": [
        "Now let's get the c-index of the trained model using our test dataset. Just to refresh:\n",
        "\n",
        "* The c-index measures the discriminatory power of a risk score. \n",
        "* Intuitively, a higher c-index indicates that the model's prediction is in agreement with the actual outcomes of a pair of patients.\n",
        "* The formula for the c-index is\n",
        "\n",
        "$$ \\mbox{cindex} = \\frac{\\mbox{concordant} + 0.5 \\times \\mbox{ties}}{\\mbox{permissible}} $$\n",
        "\n",
        "* A permissible pair is a pair of patients who have different outcomes.\n",
        "* A concordant pair is a permissible pair in which the patient with the higher risk score also has the worse outcome.\n",
        "* A tie is a permissible pair where the patients have the same risk score.\n",
        "\n",
        "\n",
        "Computing this for our test dataset will give us our baseline performance. For efficiency, we will be using the `concordance_index()` method from the [lifelines](https://lifelines.readthedocs.io/en/latest/lifelines.utils.html) package instead of the homemade c-index function we developed in the Course 2 assignment. This is wrapped in a `cindex()` function in the `util` library we imported earlier."
      ]
    },
    {
      "cell_type": "code",
      "metadata": {
        "id": "Y_S-dq8R-TMj",
        "colab_type": "code",
        "colab": {}
      },
      "source": [
        "# get the patient's risk scores by feeding the baseline data to the trained model\n",
        "scores = model_X.predict_proba(X_baseline)[:, 1]\n",
        "\n",
        "# measure the model's cindex given the patient outcome and computed risk scores above\n",
        "c_index = cindex(y.values[:,0], scores)\n",
        "\n",
        "print(f\"baseline c-index is {c_index:.4f}\")"
      ],
      "execution_count": 0,
      "outputs": []
    },
    {
      "cell_type": "markdown",
      "metadata": {
        "id": "JwFbX73I-TMm",
        "colab_type": "text"
      },
      "source": [
        "This should look familiar as this is also the result you got in the Course 2 assignment. "
      ]
    },
    {
      "cell_type": "markdown",
      "metadata": {
        "id": "fjuROuql-TMn",
        "colab_type": "text"
      },
      "source": [
        "## Feature Importance and the Permutation Method"
      ]
    },
    {
      "cell_type": "markdown",
      "metadata": {
        "id": "9D8UKdvR-TMo",
        "colab_type": "text"
      },
      "source": [
        "As discussed in the lecture videos, one way we can compute the importance of a feature in a given model is by shuffling the values of a particular column in our test set. Evaluating the performance of the model after this shuffling will allow us to quantify the feature's importance. For this exercise, we'll choose to shuffle the `Age` column. You will do this programmatically in this week's assignment but for now, you'll use a dataset that is shuffled beforehand."
      ]
    },
    {
      "cell_type": "code",
      "metadata": {
        "id": "fSsFLgcI-TMo",
        "colab_type": "code",
        "colab": {}
      },
      "source": [
        "# patient data permuted at the Age column\n",
        "X_permuted_1 = pd.read_csv(os.path.join(DIR,'lecture_nb_permutation_data/X_data_normalized_perm1.csv'),index_col=0)\n",
        "\n",
        "# Let's print the first 10 cells and compare with the baseline table above.\n",
        "# All are in the same place except for the values in the Age column\n",
        "X_permuted_1.head(10)"
      ],
      "execution_count": 0,
      "outputs": []
    },
    {
      "cell_type": "markdown",
      "metadata": {
        "id": "sahe1Twv-TMr",
        "colab_type": "text"
      },
      "source": [
        "Now, let's see how our model performs with this shuffled input:"
      ]
    },
    {
      "cell_type": "code",
      "metadata": {
        "id": "Zw8n5GSK-TMr",
        "colab_type": "code",
        "colab": {}
      },
      "source": [
        "# get the patient's risk scores by feeding the baseline data with shuffled Age column\n",
        "scores = model_X.predict_proba(X_permuted_1)[:, 1]\n",
        "\n",
        "# measure the c-index given the patient outcome and newly computed risk scores\n",
        "c_index = cindex(y.values[:,0], scores)\n",
        "print(f\"c-index for 1st permutation is {c_index:.4f}\")"
      ],
      "execution_count": 0,
      "outputs": []
    },
    {
      "cell_type": "markdown",
      "metadata": {
        "id": "fVkyBUdU-TMu",
        "colab_type": "text"
      },
      "source": [
        "We see a big drop in the performance. To quantify the importance of this feature, we simply subtract this drop from the baseline performance. This results in `0.8182 - 0.6749 = 0.1433`"
      ]
    },
    {
      "cell_type": "markdown",
      "metadata": {
        "id": "7EKA3RZn-TMu",
        "colab_type": "text"
      },
      "source": [
        "## Additional Permutations"
      ]
    },
    {
      "cell_type": "markdown",
      "metadata": {
        "id": "mE3DNwSQ-TMv",
        "colab_type": "text"
      },
      "source": [
        "The result above (i.e. `0.1433`) describes the feature importance of `Age` in our model given the shuffled dataset. However, you might deduce that the predicted risk scores are greatly affected by how the Age column is rearranged. If we arrange it differently, then the model will predict different values and this might lead to a different c-index, and consequently a different value of the feature importance. To illustrate, let's import two more datasets with different permutations of the `Age` column. Since there is a random element when doing the permutation, the resulting order of the elements in the `Age` column will be different for each shuffle. You can see that in the two datasets below."
      ]
    },
    {
      "cell_type": "code",
      "metadata": {
        "id": "U1ZEf7yS-TMv",
        "colab_type": "code",
        "colab": {}
      },
      "source": [
        "# 2nd permutation\n",
        "X_permuted_2 = pd.read_csv(os.path.join(DIR,'lecture_nb_permutation_data/X_data_normalized_perm2.csv'),index_col=0)\n",
        "\n",
        "X_permuted_2.head(10)"
      ],
      "execution_count": 0,
      "outputs": []
    },
    {
      "cell_type": "code",
      "metadata": {
        "id": "x3J6Qicr-TMy",
        "colab_type": "code",
        "colab": {}
      },
      "source": [
        "# 3rd permutation\n",
        "X_permuted_3 = pd.read_csv(os.path.join(DIR,'lecture_nb_permutation_data/X_data_normalized_perm3.csv'),index_col=0)\n",
        "\n",
        "X_permuted_3.head(10)"
      ],
      "execution_count": 0,
      "outputs": []
    },
    {
      "cell_type": "markdown",
      "metadata": {
        "id": "6nVciHdS-TM2",
        "colab_type": "text"
      },
      "source": [
        "Now let's evaluate the performance of the model with these new datasets:"
      ]
    },
    {
      "cell_type": "code",
      "metadata": {
        "id": "Ftyl1ek0-TM3",
        "colab_type": "code",
        "colab": {}
      },
      "source": [
        "# get the patient's risk scores by feeding a dataset with a different permutation of the Age column\n",
        "scores = model_X.predict_proba(X_permuted_2)[:, 1]\n",
        "\n",
        "# measure c-index\n",
        "c_index = cindex(y.values[:,0], scores)\n",
        "\n",
        "print(f\"c-index for 2nd permutation: {c_index:.4f}\")"
      ],
      "execution_count": 0,
      "outputs": []
    },
    {
      "cell_type": "code",
      "metadata": {
        "id": "sOSyjrA8-TM6",
        "colab_type": "code",
        "colab": {}
      },
      "source": [
        "# get the patient's risk scores by feeding a dataset with a different permutation of the Age column\n",
        "scores = model_X.predict_proba(X_permuted_3)[:, 1]\n",
        "\n",
        "# measure c-index\n",
        "c_index = cindex(y.values[:,0], scores)\n",
        "\n",
        "print(f\"c-index for 3rd permutation: {c_index:.4f}\")"
      ],
      "execution_count": 0,
      "outputs": []
    },
    {
      "cell_type": "markdown",
      "metadata": {
        "id": "Y25Tf9wW-TM8",
        "colab_type": "text"
      },
      "source": [
        "As you can see, there are slight differences in the resulting c-index depending on how the values are shuffled. This will then result in different values of the feature importance as well. Let's summarize our results in a table for clarity:"
      ]
    },
    {
      "cell_type": "markdown",
      "metadata": {
        "id": "7Hs2NSjA-TM9",
        "colab_type": "text"
      },
      "source": [
        "| Dataset      | C-index | Importance |\n",
        "|:---------------|:--------:| :--------: |\n",
        "|Baseline       | 0.8182| n/a |\n",
        "|1st permutation| 0.6749 | 0.1433 |\n",
        "|2nd permutation| 0.6554 | 0.1628 |\n",
        "|3rd permutation| 0.6428 | 0.1754 |"
      ]
    },
    {
      "cell_type": "markdown",
      "metadata": {
        "id": "UActSNEi-TM-",
        "colab_type": "text"
      },
      "source": [
        "To take these variations into account, we can take the mean of these different results to have a single value of the feature importance. More formally:"
      ]
    },
    {
      "cell_type": "markdown",
      "metadata": {
        "id": "2zuCUcwF-TM-",
        "colab_type": "text"
      },
      "source": [
        "\\begin{align}\n",
        "I_x  = \\left\\lvert perf - perf_x  \\right\\rvert\n",
        "\\end{align}\n",
        "\n",
        "where $I_x$ is the importance of feature $x$ and\n",
        "\\begin{align}\n",
        "perf_x  = \\frac{1}{n}\\cdot \\sum_{i=1}^{n} perf_i^{sx}\n",
        "\\end{align}\n",
        "\n",
        "where $perf_i^{sx}$ is the performance with the feature $x$ shuffled in the $i$th permutation."
      ]
    },
    {
      "cell_type": "markdown",
      "metadata": {
        "id": "ltAgHHQQ-TM_",
        "colab_type": "text"
      },
      "source": [
        "Applying this to our results, that would be `abs(0.8182 - mean([0.6749, 0.6554, 0.6428]) = 0.1605` . We would want to get more permutations to get a more accurate value of the feature importance. You will get the chance to work this out in the week's programming assignment."
      ]
    },
    {
      "cell_type": "markdown",
      "metadata": {
        "id": "sycw9H_m-TM_",
        "colab_type": "text"
      },
      "source": [
        "That's it for this lecture on the permutation method! We can now measure the global importance of a feature in the predictions of a given model. In the next section of the course, you will learn how to determine the importance of a feature for an individual patient in the dataset."
      ]
    }
  ]
}