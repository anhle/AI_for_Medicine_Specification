{
  "nbformat": 4,
  "nbformat_minor": 0,
  "metadata": {
    "kernelspec": {
      "display_name": "Python 3",
      "language": "python",
      "name": "python3"
    },
    "language_info": {
      "codemirror_mode": {
        "name": "ipython",
        "version": 3
      },
      "file_extension": ".py",
      "mimetype": "text/x-python",
      "name": "python",
      "nbconvert_exporter": "python",
      "pygments_lexer": "ipython3",
      "version": "3.6.3"
    },
    "colab": {
      "name": "AI4M_C1_W1_lecture_ex_03.ipynb",
      "provenance": [],
      "toc_visible": true,
      "include_colab_link": true
    }
  },
  "cells": [
    {
      "cell_type": "markdown",
      "metadata": {
        "id": "view-in-github",
        "colab_type": "text"
      },
      "source": [
        "<a href=\"https://colab.research.google.com/github/anhle/AI_for_Medicine_Specification/blob/master/AI_diagnosis/week1/AI4M_C1_W1_lecture_ex_03.ipynb\" target=\"_parent\"><img src=\"https://colab.research.google.com/assets/colab-badge.svg\" alt=\"Open In Colab\"/></a>"
      ]
    },
    {
      "cell_type": "markdown",
      "metadata": {
        "id": "nV9vbGDPK7h9",
        "colab_type": "text"
      },
      "source": [
        "## AI for Medicine Course 1 Week 1 lecture exercises"
      ]
    },
    {
      "cell_type": "markdown",
      "metadata": {
        "id": "5A52ZK6JK7h-",
        "colab_type": "text"
      },
      "source": [
        "<a name=\"densenet\"></a>\n",
        "# Densenet\n",
        "\n",
        "In this week's assignment, you'll be using a pre-trained Densenet model for image classification. \n",
        "\n",
        "Densenet is a convolutional network where each layer is connected to all other layers that are deeper in the network\n",
        "- The first layer is connected to the 2nd, 3rd, 4th etc.\n",
        "- The second layer is connected to the 3rd, 4th, 5th etc.\n",
        "\n",
        "Like this:\n",
        "\n",
        "<img src=\"densenet.png\" alt=\"U-net Image\" width=\"400\" align=\"middle\"/>\n",
        "\n",
        "For a detailed explanation of Densenet, check out the source of the image above, a paper by Gao Huang et al. 2018 called [Densely Connected Convolutional Networks](https://arxiv.org/pdf/1608.06993.pdf).\n",
        "\n",
        "The cells below are set up to provide an exploration of the Keras densenet implementation that you'll be using in the assignment. Run these cells to gain some insight into the network architecture. "
      ]
    },
    {
      "cell_type": "code",
      "metadata": {
        "id": "Rnc-UFt3Lspq",
        "colab_type": "code",
        "colab": {}
      },
      "source": [
        "from google.colab import drive\n",
        "drive.mount('/content/drive')"
      ],
      "execution_count": 0,
      "outputs": []
    },
    {
      "cell_type": "code",
      "metadata": {
        "id": "OPk5C3nmL8Vg",
        "colab_type": "code",
        "colab": {}
      },
      "source": [
        "# unzip data to '/content' folder\n",
        "!unzip '/content/drive/My Drive/data/AI_for_Medicine_Specification/AI_diagnosis/w1/small_data.zip'\n",
        "!cp '/content/drive/My Drive/data/AI_for_Medicine_Specification/AI_diagnosis/w1/valid-small.csv' /content/\n",
        "!cp '/content/drive/My Drive/data/AI_for_Medicine_Specification/AI_diagnosis/w1/train-small.csv' /content/\n",
        "!cp '/content/drive/My Drive/data/AI_for_Medicine_Specification/AI_diagnosis/w1/test.csv' /content/\n",
        "\n",
        "!cp '/content/drive/My Drive/data/AI_for_Medicine_Specification/AI_diagnosis/w1/densenet.hdf5' /content/"
      ],
      "execution_count": 0,
      "outputs": []
    },
    {
      "cell_type": "code",
      "metadata": {
        "id": "lClEvjH-K7h_",
        "colab_type": "code",
        "colab": {}
      },
      "source": [
        "# Import Densenet from Keras\n",
        "from keras.applications.densenet import DenseNet121\n",
        "from keras.layers import Dense, GlobalAveragePooling2D\n",
        "from keras.models import Model\n",
        "from keras import backend as K"
      ],
      "execution_count": 0,
      "outputs": []
    },
    {
      "cell_type": "markdown",
      "metadata": {
        "id": "WbV874ZjK7iE",
        "colab_type": "text"
      },
      "source": [
        "For your work in the assignment, you'll be loading a set of pre-trained weights to reduce training time."
      ]
    },
    {
      "cell_type": "code",
      "metadata": {
        "id": "RxmQG996K7iF",
        "colab_type": "code",
        "colab": {}
      },
      "source": [
        "# Create the base pre-trained model\n",
        "base_model = DenseNet121(weights='densenet.hdf5', include_top=False);"
      ],
      "execution_count": 0,
      "outputs": []
    },
    {
      "cell_type": "markdown",
      "metadata": {
        "id": "KBw-VZNGK7iJ",
        "colab_type": "text"
      },
      "source": [
        "View a summary of the model"
      ]
    },
    {
      "cell_type": "code",
      "metadata": {
        "id": "LPwHMx7UK7iJ",
        "colab_type": "code",
        "colab": {}
      },
      "source": [
        "# Print the model summary\n",
        "base_model.summary()"
      ],
      "execution_count": 0,
      "outputs": []
    },
    {
      "cell_type": "code",
      "metadata": {
        "id": "PTUq_FLXK7iM",
        "colab_type": "code",
        "colab": {
          "base_uri": "https://localhost:8080/",
          "height": 123
        },
        "outputId": "0693fc12-7444-4071-a6cb-7eb7d2ec16d6"
      },
      "source": [
        "# Print out the first five layers\n",
        "layers_l = base_model.layers\n",
        "\n",
        "print(\"First 5 layers\")\n",
        "layers_l[0:5]"
      ],
      "execution_count": 7,
      "outputs": [
        {
          "output_type": "stream",
          "text": [
            "First 5 layers\n"
          ],
          "name": "stdout"
        },
        {
          "output_type": "execute_result",
          "data": {
            "text/plain": [
              "[<keras.engine.input_layer.InputLayer at 0x7fd9b5bbf748>,\n",
              " <keras.layers.convolutional.ZeroPadding2D at 0x7fd973460550>,\n",
              " <keras.layers.convolutional.Conv2D at 0x7fd9d1fd5320>,\n",
              " <keras.layers.normalization.BatchNormalization at 0x7fd9734605f8>,\n",
              " <keras.layers.core.Activation at 0x7fd973460e48>]"
            ]
          },
          "metadata": {
            "tags": []
          },
          "execution_count": 7
        }
      ]
    },
    {
      "cell_type": "code",
      "metadata": {
        "id": "byRQF-GWK7iP",
        "colab_type": "code",
        "colab": {
          "base_uri": "https://localhost:8080/",
          "height": 123
        },
        "outputId": "824e7b7a-5de8-4b7a-8672-b0fe1d492593"
      },
      "source": [
        "# Print out the last five layers\n",
        "print(\"Last 5 layers\")\n",
        "layers_l[-6:-1]"
      ],
      "execution_count": 8,
      "outputs": [
        {
          "output_type": "stream",
          "text": [
            "Last 5 layers\n"
          ],
          "name": "stdout"
        },
        {
          "output_type": "execute_result",
          "data": {
            "text/plain": [
              "[<keras.layers.normalization.BatchNormalization at 0x7fd96bb6a710>,\n",
              " <keras.layers.core.Activation at 0x7fd96bb6a128>,\n",
              " <keras.layers.convolutional.Conv2D at 0x7fd96bb06908>,\n",
              " <keras.layers.merge.Concatenate at 0x7fd96bb19b00>,\n",
              " <keras.layers.normalization.BatchNormalization at 0x7fd96bb19a58>]"
            ]
          },
          "metadata": {
            "tags": []
          },
          "execution_count": 8
        }
      ]
    },
    {
      "cell_type": "code",
      "metadata": {
        "id": "-ZszkdDlK7iU",
        "colab_type": "code",
        "colab": {
          "base_uri": "https://localhost:8080/",
          "height": 123
        },
        "outputId": "4e017ade-3087-49d8-d680-5a9fc315337f"
      },
      "source": [
        "# Get the convolutional layers and print the first 5\n",
        "conv2D_layers = [layer for layer in base_model.layers \n",
        "                if str(type(layer)).find('Conv2D') > -1]\n",
        "print(\"The first five conv2D layers\")\n",
        "conv2D_layers[0:5]"
      ],
      "execution_count": 9,
      "outputs": [
        {
          "output_type": "stream",
          "text": [
            "The first five conv2D layers\n"
          ],
          "name": "stdout"
        },
        {
          "output_type": "execute_result",
          "data": {
            "text/plain": [
              "[<keras.layers.convolutional.Conv2D at 0x7fd9d1fd5320>,\n",
              " <keras.layers.convolutional.Conv2D at 0x7fd96d1c0d30>,\n",
              " <keras.layers.convolutional.Conv2D at 0x7fd96d19af60>,\n",
              " <keras.layers.convolutional.Conv2D at 0x7fd96d147e10>,\n",
              " <keras.layers.convolutional.Conv2D at 0x7fd96d0fd940>]"
            ]
          },
          "metadata": {
            "tags": []
          },
          "execution_count": 9
        }
      ]
    },
    {
      "cell_type": "code",
      "metadata": {
        "id": "SdIAZVx8K7iX",
        "colab_type": "code",
        "colab": {
          "base_uri": "https://localhost:8080/",
          "height": 34
        },
        "outputId": "8ef24de8-69a4-4185-d9f1-bfecf910fca8"
      },
      "source": [
        "# Print out the total number of convolutional layers\n",
        "print(f\"There are {len(conv2D_layers)} convolutional layers\")"
      ],
      "execution_count": 10,
      "outputs": [
        {
          "output_type": "stream",
          "text": [
            "There are 120 convolutional layers\n"
          ],
          "name": "stdout"
        }
      ]
    },
    {
      "cell_type": "code",
      "metadata": {
        "id": "sw0Q_w7tK7iZ",
        "colab_type": "code",
        "colab": {
          "base_uri": "https://localhost:8080/",
          "height": 52
        },
        "outputId": "845829ae-2518-4cf0-bab7-5c7df4b884eb"
      },
      "source": [
        "# Print the number of channels in the input\n",
        "print(\"The input has 3 channels\")\n",
        "base_model.input"
      ],
      "execution_count": 11,
      "outputs": [
        {
          "output_type": "stream",
          "text": [
            "The input has 3 channels\n"
          ],
          "name": "stdout"
        },
        {
          "output_type": "execute_result",
          "data": {
            "text/plain": [
              "<tf.Tensor 'input_1:0' shape=(None, None, None, 3) dtype=float32>"
            ]
          },
          "metadata": {
            "tags": []
          },
          "execution_count": 11
        }
      ]
    },
    {
      "cell_type": "code",
      "metadata": {
        "id": "01gkz7wcK7ic",
        "colab_type": "code",
        "colab": {
          "base_uri": "https://localhost:8080/",
          "height": 52
        },
        "outputId": "f8fcaf9b-d371-4c11-d576-a39b6bd4ade7"
      },
      "source": [
        "# Print the number of output channels\n",
        "print(\"The output has 1024 channels\")\n",
        "x = base_model.output\n",
        "x"
      ],
      "execution_count": 12,
      "outputs": [
        {
          "output_type": "stream",
          "text": [
            "The output has 1024 channels\n"
          ],
          "name": "stdout"
        },
        {
          "output_type": "execute_result",
          "data": {
            "text/plain": [
              "<tf.Tensor 'relu/Relu:0' shape=(None, None, None, 1024) dtype=float32>"
            ]
          },
          "metadata": {
            "tags": []
          },
          "execution_count": 12
        }
      ]
    },
    {
      "cell_type": "code",
      "metadata": {
        "id": "UJCA4eieK7ie",
        "colab_type": "code",
        "colab": {
          "base_uri": "https://localhost:8080/",
          "height": 34
        },
        "outputId": "31a01a0b-9163-47f7-8419-65cb2927e7eb"
      },
      "source": [
        "# Add a global spatial average pooling layer\n",
        "x_pool = GlobalAveragePooling2D()(x)\n",
        "x_pool"
      ],
      "execution_count": 13,
      "outputs": [
        {
          "output_type": "execute_result",
          "data": {
            "text/plain": [
              "<tf.Tensor 'global_average_pooling2d_1/Mean:0' shape=(None, 1024) dtype=float32>"
            ]
          },
          "metadata": {
            "tags": []
          },
          "execution_count": 13
        }
      ]
    },
    {
      "cell_type": "code",
      "metadata": {
        "id": "DouZ3jxJK7ig",
        "colab_type": "code",
        "colab": {
          "base_uri": "https://localhost:8080/",
          "height": 34
        },
        "outputId": "9e01aa5b-6bcb-4442-b16c-e5d046bef200"
      },
      "source": [
        "# Define a set of five class labels to use as an example\n",
        "labels = ['Emphysema', \n",
        "          'Hernia', \n",
        "          'Mass', \n",
        "          'Pneumonia',  \n",
        "          'Edema']\n",
        "n_classes = len(labels)\n",
        "print(f\"In this example, you want your model to identify {n_classes} classes\")"
      ],
      "execution_count": 14,
      "outputs": [
        {
          "output_type": "stream",
          "text": [
            "In this example, you want your model to identify 5 classes\n"
          ],
          "name": "stdout"
        }
      ]
    },
    {
      "cell_type": "code",
      "metadata": {
        "id": "niNlRdMGK7ij",
        "colab_type": "code",
        "colab": {
          "base_uri": "https://localhost:8080/",
          "height": 52
        },
        "outputId": "67c93574-6c55-4164-f42c-7ffa4cf9cd8a"
      },
      "source": [
        "# Add a logistic layer the same size as the number of classes you're trying to predict\n",
        "predictions = Dense(n_classes, activation=\"sigmoid\")(x_pool)\n",
        "print(f\"Predictions have {n_classes} units, one for each class\")\n",
        "predictions"
      ],
      "execution_count": 15,
      "outputs": [
        {
          "output_type": "stream",
          "text": [
            "Predictions have 5 units, one for each class\n"
          ],
          "name": "stdout"
        },
        {
          "output_type": "execute_result",
          "data": {
            "text/plain": [
              "<tf.Tensor 'dense_1/Sigmoid:0' shape=(None, 5) dtype=float32>"
            ]
          },
          "metadata": {
            "tags": []
          },
          "execution_count": 15
        }
      ]
    },
    {
      "cell_type": "code",
      "metadata": {
        "id": "NH7er2_DK7il",
        "colab_type": "code",
        "colab": {}
      },
      "source": [
        "# Create an updated model\n",
        "model = Model(inputs=base_model.input, outputs=predictions)"
      ],
      "execution_count": 0,
      "outputs": []
    },
    {
      "cell_type": "code",
      "metadata": {
        "id": "lKydUp88K7io",
        "colab_type": "code",
        "colab": {}
      },
      "source": [
        "# Compile the model\n",
        "model.compile(optimizer='adam',\n",
        "              loss='categorical_crossentropy')\n",
        "# (You'll customize the loss function in the assignment!)"
      ],
      "execution_count": 0,
      "outputs": []
    },
    {
      "cell_type": "markdown",
      "metadata": {
        "id": "I8TTJSixK7iq",
        "colab_type": "text"
      },
      "source": [
        "#### This has been a brief exploration of the Densenet architecture you'll use in this week's graded assignment!"
      ]
    },
    {
      "cell_type": "code",
      "metadata": {
        "id": "Xwiz_wfEK7iq",
        "colab_type": "code",
        "colab": {}
      },
      "source": [
        ""
      ],
      "execution_count": 0,
      "outputs": []
    }
  ]
}