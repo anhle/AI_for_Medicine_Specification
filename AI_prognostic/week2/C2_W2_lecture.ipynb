{
  "nbformat": 4,
  "nbformat_minor": 0,
  "metadata": {
    "kernelspec": {
      "display_name": "Python 3",
      "language": "python",
      "name": "python3"
    },
    "language_info": {
      "codemirror_mode": {
        "name": "ipython",
        "version": 3
      },
      "file_extension": ".py",
      "mimetype": "text/x-python",
      "name": "python",
      "nbconvert_exporter": "python",
      "pygments_lexer": "ipython3",
      "version": "3.7.6"
    },
    "colab": {
      "name": "C2_W2_lecture.ipynb",
      "provenance": [],
      "toc_visible": true,
      "include_colab_link": true
    }
  },
  "cells": [
    {
      "cell_type": "markdown",
      "metadata": {
        "id": "view-in-github",
        "colab_type": "text"
      },
      "source": [
        "<a href=\"https://colab.research.google.com/github/anhle/AI_for_Medicine_Specification/blob/master/AI_prognostic/week2/C2_W2_lecture.ipynb\" target=\"_parent\"><img src=\"https://colab.research.google.com/assets/colab-badge.svg\" alt=\"Open In Colab\"/></a>"
      ]
    },
    {
      "cell_type": "markdown",
      "metadata": {
        "id": "yIE0iMbTIm9p",
        "colab_type": "text"
      },
      "source": [
        "# Week 2 lecture notebook"
      ]
    },
    {
      "cell_type": "markdown",
      "metadata": {
        "id": "SC1zPbrcIm9q",
        "colab_type": "text"
      },
      "source": [
        "## Outline\n",
        "\n",
        "[Missing values](#missing-values)\n",
        "\n",
        "[Decision tree classifier](#decision-tree)\n",
        "\n",
        "[Apply a mask](#mask)\n",
        "\n",
        "[Imputation](#imputation)"
      ]
    },
    {
      "cell_type": "markdown",
      "metadata": {
        "id": "Lm_H_nVgIm9r",
        "colab_type": "text"
      },
      "source": [
        "<a name=\"missing-values\"></a>\n",
        "## Missing values"
      ]
    },
    {
      "cell_type": "code",
      "metadata": {
        "id": "PZtyIAyXIm9r",
        "colab_type": "code",
        "colab": {}
      },
      "source": [
        "import numpy as np\n",
        "import pandas as pd"
      ],
      "execution_count": 0,
      "outputs": []
    },
    {
      "cell_type": "code",
      "metadata": {
        "id": "r6IdDehAIm9v",
        "colab_type": "code",
        "colab": {}
      },
      "source": [
        "df = pd.DataFrame({\"feature_1\": [0.1,np.NaN,np.NaN,0.4],\n",
        "                   \"feature_2\": [1.1,2.2,np.NaN,np.NaN]\n",
        "                  })\n",
        "df"
      ],
      "execution_count": 0,
      "outputs": []
    },
    {
      "cell_type": "markdown",
      "metadata": {
        "id": "G4y58D2cIm9z",
        "colab_type": "text"
      },
      "source": [
        "### Check if each value is missing"
      ]
    },
    {
      "cell_type": "code",
      "metadata": {
        "id": "luoKUvqIIm9z",
        "colab_type": "code",
        "colab": {}
      },
      "source": [
        "df.isnull()"
      ],
      "execution_count": 0,
      "outputs": []
    },
    {
      "cell_type": "markdown",
      "metadata": {
        "id": "mgRfuh0OIm93",
        "colab_type": "text"
      },
      "source": [
        "### Check if any values in a row are true\n"
      ]
    },
    {
      "cell_type": "code",
      "metadata": {
        "id": "8G4NMqCBIm93",
        "colab_type": "code",
        "colab": {}
      },
      "source": [
        "df_booleans = pd.DataFrame({\"col_1\": [True,True,False],\n",
        "                            \"col_2\": [True,False,False]\n",
        "                           })\n",
        "df_booleans"
      ],
      "execution_count": 0,
      "outputs": []
    },
    {
      "cell_type": "markdown",
      "metadata": {
        "id": "-JyCgv5JIm96",
        "colab_type": "text"
      },
      "source": [
        "- If we use pandas.DataFrame.any(), it checks if at least one value in a column is `True`, and if so, returns `True`.\n",
        "- If all rows are `False`, then it returns `False` for that column"
      ]
    },
    {
      "cell_type": "code",
      "metadata": {
        "id": "Opv6sdNnIm97",
        "colab_type": "code",
        "colab": {}
      },
      "source": [
        "df_booleans.any()"
      ],
      "execution_count": 0,
      "outputs": []
    },
    {
      "cell_type": "markdown",
      "metadata": {
        "id": "q0JLOihBIm99",
        "colab_type": "text"
      },
      "source": [
        "- Setting the axis to zero also checks if any item in a column is `True`"
      ]
    },
    {
      "cell_type": "code",
      "metadata": {
        "id": "lkmrHiaOIm9-",
        "colab_type": "code",
        "colab": {}
      },
      "source": [
        "df_booleans.any(axis=0)"
      ],
      "execution_count": 0,
      "outputs": []
    },
    {
      "cell_type": "markdown",
      "metadata": {
        "id": "h94TBuVnIm-B",
        "colab_type": "text"
      },
      "source": [
        "- Setting the axis to `1` checks if any item in a **row** is `True`, and if so, returns true\n",
        "- Similarily only when all values in a row are `False`, the function returns `False`."
      ]
    },
    {
      "cell_type": "code",
      "metadata": {
        "id": "Ql3P2sCCIm-C",
        "colab_type": "code",
        "colab": {}
      },
      "source": [
        "df_booleans.any(axis=1)"
      ],
      "execution_count": 0,
      "outputs": []
    },
    {
      "cell_type": "markdown",
      "metadata": {
        "id": "wBWxSQZjIm-F",
        "colab_type": "text"
      },
      "source": [
        "### Sum booleans"
      ]
    },
    {
      "cell_type": "code",
      "metadata": {
        "id": "RQr2b6daIm-F",
        "colab_type": "code",
        "colab": {}
      },
      "source": [
        "series_booleans = pd.Series([True,True,False])\n",
        "series_booleans"
      ],
      "execution_count": 0,
      "outputs": []
    },
    {
      "cell_type": "markdown",
      "metadata": {
        "id": "Hxgg70vaIm-I",
        "colab_type": "text"
      },
      "source": [
        "- When applying `sum` to a series (or list) of booleans, the `sum` function treats `True` as 1 and `False` as zero."
      ]
    },
    {
      "cell_type": "code",
      "metadata": {
        "id": "03QL2bEFIm-I",
        "colab_type": "code",
        "colab": {}
      },
      "source": [
        "sum(series_booleans)"
      ],
      "execution_count": 0,
      "outputs": []
    },
    {
      "cell_type": "markdown",
      "metadata": {
        "id": "IOQ_5j69Im-L",
        "colab_type": "text"
      },
      "source": [
        "You will make use of these functions in this week's assignment!"
      ]
    },
    {
      "cell_type": "markdown",
      "metadata": {
        "id": "HwhCDoYwIm-M",
        "colab_type": "text"
      },
      "source": [
        "### This is the end of this practice section.\n",
        "\n",
        "Please continue on with the lecture videos!\n",
        "\n",
        "---"
      ]
    },
    {
      "cell_type": "markdown",
      "metadata": {
        "id": "XhNioT2LIm-M",
        "colab_type": "text"
      },
      "source": [
        "<a name=\"decision-tree\"></a>\n",
        "## Decision Tree Classifier\n"
      ]
    },
    {
      "cell_type": "code",
      "metadata": {
        "id": "loEYjxIqIm-N",
        "colab_type": "code",
        "colab": {}
      },
      "source": [
        "import pandas as pd"
      ],
      "execution_count": 0,
      "outputs": []
    },
    {
      "cell_type": "code",
      "metadata": {
        "id": "XJgaNPGxIm-P",
        "colab_type": "code",
        "colab": {}
      },
      "source": [
        "X = pd.DataFrame({\"feature_1\":[0,1,2,3]})\n",
        "y = pd.Series([0,0,1,1])"
      ],
      "execution_count": 0,
      "outputs": []
    },
    {
      "cell_type": "code",
      "metadata": {
        "id": "1XbuhB9bIm-S",
        "colab_type": "code",
        "colab": {}
      },
      "source": [
        "X"
      ],
      "execution_count": 0,
      "outputs": []
    },
    {
      "cell_type": "code",
      "metadata": {
        "id": "zHjCEwiBIm-U",
        "colab_type": "code",
        "colab": {}
      },
      "source": [
        "y"
      ],
      "execution_count": 0,
      "outputs": []
    },
    {
      "cell_type": "code",
      "metadata": {
        "id": "BL_WSkhxIm-X",
        "colab_type": "code",
        "colab": {}
      },
      "source": [
        "from sklearn.tree import DecisionTreeClassifier"
      ],
      "execution_count": 0,
      "outputs": []
    },
    {
      "cell_type": "code",
      "metadata": {
        "id": "gnBG57KkIm-a",
        "colab_type": "code",
        "colab": {}
      },
      "source": [
        "dt = DecisionTreeClassifier()\n",
        "dt"
      ],
      "execution_count": 0,
      "outputs": []
    },
    {
      "cell_type": "code",
      "metadata": {
        "id": "ZrCm2ZSnIm-d",
        "colab_type": "code",
        "colab": {}
      },
      "source": [
        "dt.fit(X,y)"
      ],
      "execution_count": 0,
      "outputs": []
    },
    {
      "cell_type": "markdown",
      "metadata": {
        "id": "Fcnt5QwcIm-h",
        "colab_type": "text"
      },
      "source": [
        "### Set tree parameters"
      ]
    },
    {
      "cell_type": "code",
      "metadata": {
        "id": "8INDi46PIm-h",
        "colab_type": "code",
        "colab": {}
      },
      "source": [
        "dt = DecisionTreeClassifier(criterion='entropy',\n",
        "                            max_depth=10,\n",
        "                            min_samples_split=2\n",
        "                           )\n",
        "dt"
      ],
      "execution_count": 0,
      "outputs": []
    },
    {
      "cell_type": "markdown",
      "metadata": {
        "id": "2_6n8r6oIm-k",
        "colab_type": "text"
      },
      "source": [
        "### Set parameters using a dictionary\n",
        "\n",
        "- In Python, we can use a dictionary to set parameters of a function.\n",
        "- We can define the name of the parameter as the 'key', and the value of that parameter as the 'value' for each key-value pair of the dictionary."
      ]
    },
    {
      "cell_type": "code",
      "metadata": {
        "id": "3sV62xDOIm-k",
        "colab_type": "code",
        "colab": {}
      },
      "source": [
        "tree_parameters = {'criterion': 'entropy',\n",
        "                   'max_depth': 10,\n",
        "                   'min_samples_split': 2\n",
        "                  }"
      ],
      "execution_count": 0,
      "outputs": []
    },
    {
      "cell_type": "markdown",
      "metadata": {
        "id": "T59QRpQyIm-m",
        "colab_type": "text"
      },
      "source": [
        "- We can pass in the dictionary and use `**` to 'unpack' that dictionary's key-value pairs as parameter values for the function."
      ]
    },
    {
      "cell_type": "code",
      "metadata": {
        "id": "QbrI1PXBIm-m",
        "colab_type": "code",
        "colab": {}
      },
      "source": [
        "dt = DecisionTreeClassifier(**tree_parameters)\n",
        "dt"
      ],
      "execution_count": 0,
      "outputs": []
    },
    {
      "cell_type": "markdown",
      "metadata": {
        "id": "5SFTFz1rIm-o",
        "colab_type": "text"
      },
      "source": [
        "### This is the end of this practice section.\n",
        "\n",
        "Please continue on with the lecture videos!\n",
        "\n",
        "---"
      ]
    },
    {
      "cell_type": "markdown",
      "metadata": {
        "id": "xHk0MJxFIm-p",
        "colab_type": "text"
      },
      "source": [
        "<a name=\"mask\"></a>\n",
        "## Apply a mask\n",
        "\n",
        "Use a 'mask' to filter data of a dataframe"
      ]
    },
    {
      "cell_type": "code",
      "metadata": {
        "id": "hexVBBJQIm-p",
        "colab_type": "code",
        "colab": {}
      },
      "source": [
        "import pandas as pd"
      ],
      "execution_count": 0,
      "outputs": []
    },
    {
      "cell_type": "code",
      "metadata": {
        "id": "i-5h0DWdIm-r",
        "colab_type": "code",
        "colab": {}
      },
      "source": [
        "df = pd.DataFrame({\"feature_1\": [0,1,2,3,4]})\n",
        "df"
      ],
      "execution_count": 0,
      "outputs": []
    },
    {
      "cell_type": "code",
      "metadata": {
        "id": "WA058kQYIm-u",
        "colab_type": "code",
        "colab": {}
      },
      "source": [
        "mask = df[\"feature_1\"] >= 3\n",
        "mask"
      ],
      "execution_count": 0,
      "outputs": []
    },
    {
      "cell_type": "code",
      "metadata": {
        "id": "1oldn1zMIm-w",
        "colab_type": "code",
        "colab": {}
      },
      "source": [
        "df[mask]"
      ],
      "execution_count": 0,
      "outputs": []
    },
    {
      "cell_type": "markdown",
      "metadata": {
        "id": "UTaFXGqDIm-z",
        "colab_type": "text"
      },
      "source": [
        "### Combining comparison operators\n",
        "\n",
        "You'll want to be careful when combining more than one comparison operator, to avoid errors.\n",
        "- Using the `and` operator on a series will result in a `ValueError`, because it's "
      ]
    },
    {
      "cell_type": "code",
      "metadata": {
        "id": "74vcVHzlIm-z",
        "colab_type": "code",
        "colab": {}
      },
      "source": [
        "df[\"feature_1\"] >=2"
      ],
      "execution_count": 0,
      "outputs": []
    },
    {
      "cell_type": "code",
      "metadata": {
        "id": "6Cy5w6vNIm-2",
        "colab_type": "code",
        "colab": {}
      },
      "source": [
        "df[\"feature_1\" ] <=3"
      ],
      "execution_count": 0,
      "outputs": []
    },
    {
      "cell_type": "code",
      "metadata": {
        "id": "rXfNTrGXIm-3",
        "colab_type": "code",
        "colab": {}
      },
      "source": [
        "# NOTE: This will result in a ValueError\n",
        "df[\"feature_1\"] >=2 and df[\"feature_1\" ] <=3"
      ],
      "execution_count": 0,
      "outputs": []
    },
    {
      "cell_type": "markdown",
      "metadata": {
        "id": "-GlStFWpIm-6",
        "colab_type": "text"
      },
      "source": [
        "### How to combine two logical operators for Series\n",
        "What we want is to look at the same row of each of the two series, and compare each pair of items, one row at a time. To do this, use:\n",
        "- the `&` operator instead of `and`\n",
        "- the `|` operator instead of `or`.\n",
        "- Also, you'll need to surround each comparison with parenthese `(...)`"
      ]
    },
    {
      "cell_type": "code",
      "metadata": {
        "id": "TfyByNiOIm-6",
        "colab_type": "code",
        "colab": {}
      },
      "source": [
        "# This will compare the series, one row at a time\n",
        "(df[\"feature_1\"] >=2) & (df[\"feature_1\" ] <=3)"
      ],
      "execution_count": 0,
      "outputs": []
    },
    {
      "cell_type": "markdown",
      "metadata": {
        "id": "fgJw8CvhIm-8",
        "colab_type": "text"
      },
      "source": [
        "### This is the end of this practice section.\n",
        "\n",
        "Please continue on with the lecture videos!\n",
        "\n",
        "---"
      ]
    },
    {
      "cell_type": "markdown",
      "metadata": {
        "id": "Z72-7j6cIm-9",
        "colab_type": "text"
      },
      "source": [
        "<a name=\"imputation\"></a>\n",
        "## Imputation\n",
        "\n",
        "We will use imputation functions provided by scikit-learn.  See the scikit-learn [documentation on imputation](https://scikit-learn.org/stable/modules/impute.html#iterative-imputer)"
      ]
    },
    {
      "cell_type": "code",
      "metadata": {
        "id": "oD_fTg0YIm-9",
        "colab_type": "code",
        "colab": {}
      },
      "source": [
        "import pandas as pd\n",
        "import numpy as np"
      ],
      "execution_count": 0,
      "outputs": []
    },
    {
      "cell_type": "code",
      "metadata": {
        "id": "cFfRqHbMIm_A",
        "colab_type": "code",
        "colab": {}
      },
      "source": [
        "df = pd.DataFrame({\"feature_1\": [0,1,2,3,4,5,6,7,8,9,10],\n",
        "                   \"feature_2\": [0,np.NaN,20,30,40,50,60,70,80,np.NaN,100],\n",
        "                  })\n",
        "df"
      ],
      "execution_count": 0,
      "outputs": []
    },
    {
      "cell_type": "markdown",
      "metadata": {
        "id": "PyDhNMwIIm_C",
        "colab_type": "text"
      },
      "source": [
        "### Mean imputation"
      ]
    },
    {
      "cell_type": "code",
      "metadata": {
        "id": "Eo7corT0Im_C",
        "colab_type": "code",
        "colab": {}
      },
      "source": [
        "from sklearn.impute import SimpleImputer"
      ],
      "execution_count": 0,
      "outputs": []
    },
    {
      "cell_type": "code",
      "metadata": {
        "id": "9rSjKa9BIm_E",
        "colab_type": "code",
        "colab": {}
      },
      "source": [
        "mean_imputer = SimpleImputer(missing_values=np.NaN, strategy='mean')\n",
        "mean_imputer"
      ],
      "execution_count": 0,
      "outputs": []
    },
    {
      "cell_type": "code",
      "metadata": {
        "id": "AkUYiJngIm_G",
        "colab_type": "code",
        "colab": {}
      },
      "source": [
        "mean_imputer.fit(df)"
      ],
      "execution_count": 0,
      "outputs": []
    },
    {
      "cell_type": "code",
      "metadata": {
        "id": "RrapN4mJIm_J",
        "colab_type": "code",
        "colab": {}
      },
      "source": [
        "nparray_imputed_mean = mean_imputer.transform(df)\n",
        "nparray_imputed_mean"
      ],
      "execution_count": 0,
      "outputs": []
    },
    {
      "cell_type": "markdown",
      "metadata": {
        "id": "PiZxyS5oIm_L",
        "colab_type": "text"
      },
      "source": [
        "Notice how the missing values are replaced with `50` in both cases."
      ]
    },
    {
      "cell_type": "markdown",
      "metadata": {
        "id": "vN9OCktVIm_M",
        "colab_type": "text"
      },
      "source": [
        "### Regression Imputation"
      ]
    },
    {
      "cell_type": "code",
      "metadata": {
        "id": "2G6mRyllIm_M",
        "colab_type": "code",
        "colab": {}
      },
      "source": [
        "from sklearn.experimental import enable_iterative_imputer\n",
        "from sklearn.impute import IterativeImputer"
      ],
      "execution_count": 0,
      "outputs": []
    },
    {
      "cell_type": "code",
      "metadata": {
        "id": "K0se2xi3Im_P",
        "colab_type": "code",
        "colab": {}
      },
      "source": [
        "reg_imputer = IterativeImputer()\n",
        "reg_imputer"
      ],
      "execution_count": 0,
      "outputs": []
    },
    {
      "cell_type": "code",
      "metadata": {
        "id": "jSr4crbMIm_S",
        "colab_type": "code",
        "colab": {}
      },
      "source": [
        "reg_imputer.fit(df)"
      ],
      "execution_count": 0,
      "outputs": []
    },
    {
      "cell_type": "code",
      "metadata": {
        "id": "c9ipd4P7Im_U",
        "colab_type": "code",
        "colab": {}
      },
      "source": [
        "nparray_imputed_reg = reg_imputer.transform(df)\n",
        "nparray_imputed_reg"
      ],
      "execution_count": 0,
      "outputs": []
    },
    {
      "cell_type": "markdown",
      "metadata": {
        "id": "avZb6NuUIm_W",
        "colab_type": "text"
      },
      "source": [
        "Notice how the filled in values are replaced with `10` and `90` when using regression imputation. The imputation assumed a linear relationship between feature 1 and feature 2."
      ]
    },
    {
      "cell_type": "markdown",
      "metadata": {
        "id": "bKNRD3qXIm_X",
        "colab_type": "text"
      },
      "source": [
        "### This is the end of this practice section.\n",
        "\n",
        "Please continue on with the lecture videos!\n",
        "\n",
        "---"
      ]
    },
    {
      "cell_type": "code",
      "metadata": {
        "id": "iUSr2WiaIm_Y",
        "colab_type": "code",
        "colab": {}
      },
      "source": [
        ""
      ],
      "execution_count": 0,
      "outputs": []
    }
  ]
}