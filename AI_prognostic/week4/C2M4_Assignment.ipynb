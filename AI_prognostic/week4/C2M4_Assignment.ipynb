{
  "nbformat": 4,
  "nbformat_minor": 0,
  "metadata": {
    "accelerator": "GPU",
    "colab": {
      "name": "C2M4_Assignment.ipynb",
      "provenance": [],
      "collapsed_sections": [],
      "toc_visible": true,
      "include_colab_link": true
    },
    "coursera": {
      "schema_names": [
        "AI4MC2-4"
      ]
    },
    "kernelspec": {
      "display_name": "Python 3",
      "language": "python",
      "name": "python3"
    },
    "language_info": {
      "codemirror_mode": {
        "name": "ipython",
        "version": 3
      },
      "file_extension": ".py",
      "mimetype": "text/x-python",
      "name": "python",
      "nbconvert_exporter": "python",
      "pygments_lexer": "ipython3",
      "version": "3.7.6"
    }
  },
  "cells": [
    {
      "cell_type": "markdown",
      "metadata": {
        "id": "view-in-github",
        "colab_type": "text"
      },
      "source": [
        "<a href=\"https://colab.research.google.com/github/anhle/AI_for_Medicine_Specification/blob/master/AI_prognostic/week4/C2M4_Assignment.ipynb\" target=\"_parent\"><img src=\"https://colab.research.google.com/assets/colab-badge.svg\" alt=\"Open In Colab\"/></a>"
      ]
    },
    {
      "cell_type": "markdown",
      "metadata": {
        "colab_type": "text",
        "id": "EZqu9a_ChWYv"
      },
      "source": [
        "# Cox Proportional Hazards and Random Survival Forests\n",
        "\n",
        "Welcome to the final assignment in Course 2! In this assignment you'll develop risk models using survival data and a combination of linear and non-linear techniques. We'll be using a dataset with survival data of patients with Primary Biliary Cirrhosis (pbc). PBC is a progressive disease of the liver caused by a buildup of bile within the liver (cholestasis) that results in damage to the small bile ducts that drain bile from the liver. Our goal will be to understand the effects of different factors on the survival times of the patients. Along the way you'll learn about the following topics: \n",
        "\n",
        "- Cox Proportional Hazards\n",
        "  - Data Preprocessing for Cox Models.\n",
        "- Random Survival Forests\n",
        "  - Permutation Methods for Interpretation."
      ]
    },
    {
      "cell_type": "markdown",
      "metadata": {
        "id": "XUZZNHktQplm",
        "colab_type": "text"
      },
      "source": [
        "## Outline\n",
        "\n",
        "- [1. Import Packages](#1)\n",
        "- [2. Load the Dataset](#2)\n",
        "- [3. Explore the Dataset](#3)\n",
        "- [4. Cox Proportional Hazards](#4)\n",
        "    - [Exercise 1](#Ex-1)\n",
        "- [5. Fitting and Interpreting a Cox Model](#5)\n",
        "- [6. Hazard ratio](#3)\n",
        "    - [Exercise 2](#Ex-2)\n",
        "- [7. Harrell's C-Index](#7)\n",
        "    - [Exercise 3](#Ex-3)\n",
        "- [8. Random Survival Forests](#8)\n",
        "- [9. Permutation Method for Interpretation](#9)"
      ]
    },
    {
      "cell_type": "markdown",
      "metadata": {
        "colab_type": "text",
        "id": "IH0ukiNS3zG-"
      },
      "source": [
        "<a name='1'></a>\n",
        "## 1. Import Packages\n",
        "\n",
        "We'll first import all the packages that we need for this assignment. \n",
        "\n",
        "- `sklearn` is one of the most popular machine learning libraries.\n",
        "- `numpy` is the fundamental package for scientific computing in python.\n",
        "- `pandas` is what we'll use to manipulate our data.\n",
        "- `matplotlib` is a plotting library.\n",
        "- `lifelines` is an open-source survival analysis library."
      ]
    },
    {
      "cell_type": "code",
      "metadata": {
        "id": "LP_GkBRCRM0W",
        "colab_type": "code",
        "colab": {}
      },
      "source": [
        "pip install lifelines"
      ],
      "execution_count": 0,
      "outputs": []
    },
    {
      "cell_type": "code",
      "metadata": {
        "colab_type": "code",
        "id": "0JHzRJaQi_nU",
        "colab": {}
      },
      "source": [
        "import sklearn\n",
        "import numpy as np\n",
        "import pandas as pd\n",
        "import matplotlib.pyplot as plt\n",
        "\n",
        "from lifelines import CoxPHFitter\n",
        "from lifelines.utils import concordance_index as cindex\n",
        "from sklearn.model_selection import train_test_split"
      ],
      "execution_count": 0,
      "outputs": []
    },
    {
      "cell_type": "markdown",
      "metadata": {
        "colab_type": "text",
        "id": "vZMwq0VfW5TW"
      },
      "source": [
        "<a name='2'></a>\n",
        "## 2. Load the Dataset\n",
        "\n",
        "Run the next cell to load the data."
      ]
    },
    {
      "cell_type": "code",
      "metadata": {
        "id": "NyvF6sbFSYHr",
        "colab_type": "code",
        "colab": {}
      },
      "source": [
        "from google.colab import drive\n",
        "drive.mount('/content/drive')"
      ],
      "execution_count": 0,
      "outputs": []
    },
    {
      "cell_type": "code",
      "metadata": {
        "id": "87qbTPniSiEj",
        "colab_type": "code",
        "colab": {}
      },
      "source": [
        "!unzip '/content/drive/My Drive/data/AI_for_Medicine_Specification/AI_prognostic/w4/R.zip' \n",
        "!cp '/content/drive/My Drive/data/AI_for_Medicine_Specification/AI_prognostic/w4/pbc.csv' /content/"
      ],
      "execution_count": 0,
      "outputs": []
    },
    {
      "cell_type": "code",
      "metadata": {
        "id": "yLl51gW1RTiS",
        "colab_type": "code",
        "colab": {}
      },
      "source": [
        "def load_data():\n",
        "    df = pd.read_csv('pbc.csv')\n",
        "    df = df.drop('id', axis=1)\n",
        "    df = df[df.status != 1]\n",
        "    df.loc[:, 'status'] = df.status / 2.0\n",
        "    df.loc[:, 'time'] = df.time / 365.0\n",
        "    df.loc[:, 'trt'] = df.trt - 1\n",
        "    df.loc[:, 'sex'] = df.sex.map({'f':0.0, 'm':1.0})\n",
        "    df = df.dropna(axis=0)\n",
        "\n",
        "    return df"
      ],
      "execution_count": 0,
      "outputs": []
    },
    {
      "cell_type": "code",
      "metadata": {
        "id": "L9lxdTKmQplt",
        "colab_type": "code",
        "colab": {}
      },
      "source": [
        "df = load_data()"
      ],
      "execution_count": 0,
      "outputs": []
    },
    {
      "cell_type": "markdown",
      "metadata": {
        "id": "Q4jVO7FoQplx",
        "colab_type": "text"
      },
      "source": [
        "<a name='3'></a>\n",
        "## 3. Explore the Dataset\n",
        "\n",
        "In the lecture videos `time` was in months, however in this assignment, `time` will be converted into years. Also notice that we have assigned a numeric value to `sex`, where `female = 0` and `male = 1`.\n",
        "\n",
        "Next, familiarize yourself with the data and the shape of it. "
      ]
    },
    {
      "cell_type": "code",
      "metadata": {
        "colab_type": "code",
        "id": "T1a_aHGmXT_C",
        "colab": {}
      },
      "source": [
        "print(df.shape)\n",
        "\n",
        "# df.head() only outputs the top few rows\n",
        "df.head()"
      ],
      "execution_count": 0,
      "outputs": []
    },
    {
      "cell_type": "markdown",
      "metadata": {
        "colab_type": "text",
        "id": "Zy5BmjCV-Uo2"
      },
      "source": [
        "Take a minute to examine particular cases."
      ]
    },
    {
      "cell_type": "code",
      "metadata": {
        "colab_type": "code",
        "id": "01I3ChzL-T-f",
        "colab": {}
      },
      "source": [
        "i = 20\n",
        "df.iloc[i, :]"
      ],
      "execution_count": 0,
      "outputs": []
    },
    {
      "cell_type": "markdown",
      "metadata": {
        "colab_type": "text",
        "id": "pYZKl_9Tk2vS"
      },
      "source": [
        "Now, split your dataset into train, validation and test set using 60/20/20 split. "
      ]
    },
    {
      "cell_type": "code",
      "metadata": {
        "colab_type": "code",
        "id": "V4HJSZaMk1xG",
        "colab": {}
      },
      "source": [
        "np.random.seed(0)\n",
        "df_dev, df_test = train_test_split(df, test_size = 0.2)\n",
        "df_train, df_val = train_test_split(df_dev, test_size = 0.25)\n",
        "\n",
        "print(\"Total number of patients:\", df.shape[0])\n",
        "print(\"Total number of patients in training set:\", df_train.shape[0])\n",
        "print(\"Total number of patients in validation set:\", df_val.shape[0])\n",
        "print(\"Total number of patients in test set:\", df_test.shape[0])"
      ],
      "execution_count": 0,
      "outputs": []
    },
    {
      "cell_type": "markdown",
      "metadata": {
        "id": "ZGgieh4MQpl_",
        "colab_type": "text"
      },
      "source": [
        "Before proceeding to modeling, let's normalize the continuous covariates to make sure they're on the same scale. Again, we should normalize the test data using statistics from the train data."
      ]
    },
    {
      "cell_type": "code",
      "metadata": {
        "id": "DEw1fIx0QpmA",
        "colab_type": "code",
        "colab": {}
      },
      "source": [
        "continuous_columns = ['age', 'bili', 'chol', 'albumin', 'copper', 'alk.phos', 'ast', 'trig', 'platelet', 'protime']\n",
        "mean = df_train.loc[:, continuous_columns].mean()\n",
        "std = df_train.loc[:, continuous_columns].std()\n",
        "df_train.loc[:, continuous_columns] = (df_train.loc[:, continuous_columns] - mean) / std\n",
        "df_val.loc[:, continuous_columns] = (df_val.loc[:, continuous_columns] - mean) / std\n",
        "df_test.loc[:, continuous_columns] = (df_test.loc[:, continuous_columns] - mean) / std"
      ],
      "execution_count": 0,
      "outputs": []
    },
    {
      "cell_type": "markdown",
      "metadata": {
        "id": "DMcIgAAPQpmE",
        "colab_type": "text"
      },
      "source": [
        "Let's check the summary statistics on our training dataset to make sure it's standardized."
      ]
    },
    {
      "cell_type": "code",
      "metadata": {
        "id": "5inWvcnkQpmE",
        "colab_type": "code",
        "colab": {}
      },
      "source": [
        "df_train.loc[:, continuous_columns].describe()"
      ],
      "execution_count": 0,
      "outputs": []
    },
    {
      "cell_type": "markdown",
      "metadata": {
        "colab_type": "text",
        "id": "BX3woHz-jit1"
      },
      "source": [
        "<a name='4'></a>\n",
        "## 4. Cox Proportional Hazards\n",
        "\n",
        "Our goal is to build a risk score using the survival data that we have. We'll begin by fitting a Cox Proportional Hazards model to your data.\n",
        "\n",
        "Recall that the Cox Proportional Hazards model describes the hazard for an individual $i$ at time $t$ as \n",
        "\n",
        "$$\n",
        "\\lambda(t, x) = \\lambda_0(t)e^{\\theta^T X_i}\n",
        "$$\n",
        "\n",
        "The $\\lambda_0$ term is a baseline hazard and incorporates the risk over time, and the other term incorporates the risk due to the individual's covariates. After fitting the model, we can rank individuals using the person-dependent risk term $e^{\\theta^T X_i}$. \n",
        "\n",
        "Categorical variables cannot be used in a regression model as they are. In order to use them, conversion to a series of variables is required.\n",
        "\n",
        "Since our data has a mix of categorical (`stage`) and continuous (`wblc`) variables, before we proceed further we need to do some data engineering. To tackle the issue at hand we'll be using the `Dummy Coding` technique. In order to use Cox Proportional Hazards, we will have to turn the categorical data into one hot features so that we can fit our Cox model. Luckily, Pandas has a built-in function called `get_dummies` that will make it easier for us to implement our function. It turns categorical features into multiple binary features.\n",
        "\n",
        "<img src=\"1-hot-encode.png\" style=\"padding-top: 5px;width: 60%;left: 0px;margin-left: 150px;margin-right: 0px;\">\n",
        "\n",
        "\n"
      ]
    },
    {
      "cell_type": "markdown",
      "metadata": {
        "id": "4BetNdbfQpmI",
        "colab_type": "text"
      },
      "source": [
        "<a name='Ex-1'></a>\n",
        "### Exercise 1\n",
        "In the cell below, implement the `to_one_hot(...)` function."
      ]
    },
    {
      "cell_type": "markdown",
      "metadata": {
        "id": "-ZjjdFxzQpmI",
        "colab_type": "text"
      },
      "source": [
        "<details>    \n",
        "<summary>\n",
        "    <font size=\"3\" color=\"darkgreen\"><b>Hints</b></font>\n",
        "</summary>\n",
        "<p>\n",
        "<ul>\n",
        "    <li>Remember to drop the first dummy for each each category to avoid convergence issues when fitting the proportional hazards model.</li>\n",
        "    <li> Check out the <a href=\"https://pandas.pydata.org/pandas-docs/stable/reference/api/pandas.get_dummies.html\" > get_dummies() </a>  documentation. </li>\n",
        "    <li>Use <code>dtype=np.float64</code>.</li>\n",
        "</ul>\n",
        "</p>"
      ]
    },
    {
      "cell_type": "code",
      "metadata": {
        "colab_type": "code",
        "id": "VMzvx0xF_C3I",
        "colab": {}
      },
      "source": [
        "# UNQ_C1 (UNIQUE CELL IDENTIFIER, DO NOT EDIT)\n",
        "def to_one_hot(dataframe, columns):\n",
        "    '''\n",
        "    Convert columns in dataframe to one-hot encoding.\n",
        "    Args:\n",
        "        dataframe (dataframe): pandas dataframe containing covariates\n",
        "        columns (list of strings): list categorical column names to one hot encode\n",
        "    Returns:\n",
        "        one_hot_df (dataframe): dataframe with categorical columns encoded\n",
        "                            as binary variables\n",
        "    '''\n",
        "    \n",
        "    ### START CODE HERE (REPLACE INSTANCES OF 'None' with your code) ###\n",
        "    \n",
        "    one_hot_df = pd.get_dummies(dataframe,columns = columns,drop_first=True, dtype=np.float64)\n",
        "    \n",
        "    ### END CODE HERE ###\n",
        "    \n",
        "    return one_hot_df"
      ],
      "execution_count": 0,
      "outputs": []
    },
    {
      "cell_type": "markdown",
      "metadata": {
        "colab_type": "text",
        "id": "rM2tIzvG_ifc"
      },
      "source": [
        "Now we'll use the function you coded to transform the training, validation, and test sets."
      ]
    },
    {
      "cell_type": "code",
      "metadata": {
        "colab_type": "code",
        "id": "SGZfLeup_fUL",
        "colab": {}
      },
      "source": [
        "# List of categorical columns\n",
        "to_encode = ['edema', 'stage']\n",
        "\n",
        "one_hot_train = to_one_hot(df_train, to_encode)\n",
        "one_hot_val = to_one_hot(df_val, to_encode)\n",
        "one_hot_test = to_one_hot(df_test, to_encode)\n",
        "\n",
        "print(one_hot_val.columns.tolist())\n",
        "print(f\"There are {len(one_hot_val.columns)} columns\")"
      ],
      "execution_count": 0,
      "outputs": []
    },
    {
      "cell_type": "markdown",
      "metadata": {
        "id": "51dGNkKjQpmR",
        "colab_type": "text"
      },
      "source": [
        "#### Expected output\n",
        "```Python\n",
        "['time', 'status', 'trt', 'age', 'sex', 'ascites', 'hepato', 'spiders', 'bili', 'chol', 'albumin', 'copper', 'alk.phos', 'ast', 'trig', 'platelet', 'protime', 'edema_0.5', 'edema_1.0', 'stage_2.0', 'stage_3.0', 'stage_4.0']\n",
        "There are 22 columns\n",
        "```"
      ]
    },
    {
      "cell_type": "markdown",
      "metadata": {
        "id": "G10xezJiQpmR",
        "colab_type": "text"
      },
      "source": [
        "### Look for new features\n",
        "Now, let's take a peek at one of the transformed data sets. Do you notice any new features?"
      ]
    },
    {
      "cell_type": "code",
      "metadata": {
        "colab_type": "code",
        "id": "w8EG8A9gXcpu",
        "colab": {}
      },
      "source": [
        "print(one_hot_train.shape)\n",
        "one_hot_train.head()"
      ],
      "execution_count": 0,
      "outputs": []
    },
    {
      "cell_type": "markdown",
      "metadata": {
        "colab_type": "text",
        "id": "hNxuymLwyjqM"
      },
      "source": [
        "<a name='5'></a>\n",
        "## 5. Fitting and Interpreting a Cox Model"
      ]
    },
    {
      "cell_type": "markdown",
      "metadata": {
        "colab_type": "text",
        "id": "ygiFcUKcAFQk"
      },
      "source": [
        "Run the following cell to fit your Cox Proportional Hazards model using the `lifelines` package."
      ]
    },
    {
      "cell_type": "code",
      "metadata": {
        "colab_type": "code",
        "id": "dDCS7p3xjbXB",
        "colab": {}
      },
      "source": [
        "cph = CoxPHFitter()\n",
        "cph.fit(one_hot_train, duration_col = 'time', event_col = 'status', step_size=0.1)"
      ],
      "execution_count": 0,
      "outputs": []
    },
    {
      "cell_type": "markdown",
      "metadata": {
        "colab_type": "text",
        "id": "5MUITR0QANDH"
      },
      "source": [
        "You can use `cph.print_summary()` to view the coefficients associated with each covariate as well as confidence intervals. "
      ]
    },
    {
      "cell_type": "code",
      "metadata": {
        "colab_type": "code",
        "id": "fH5AZs8vjcEv",
        "colab": {}
      },
      "source": [
        "cph.print_summary()"
      ],
      "execution_count": 0,
      "outputs": []
    },
    {
      "cell_type": "markdown",
      "metadata": {
        "id": "obbm12YUQpmf",
        "colab_type": "text"
      },
      "source": [
        "**Question:**\n",
        "\n",
        "- According to the model, was treatment `trt` beneficial? \n",
        "- What was its associated hazard ratio? \n",
        "    - Note that the hazard ratio is how much an incremental increase in the feature variable changes the hazard."
      ]
    },
    {
      "cell_type": "markdown",
      "metadata": {
        "id": "CTlZucm_Qpmg",
        "colab_type": "text"
      },
      "source": [
        "<details>    \n",
        "<summary>\n",
        "    <font size=\"3\" color=\"darkgreen\"><b>Check your answer!</b></font>\n",
        "</summary>\n",
        "<p>\n",
        "<ul>\n",
        "<ul>\n",
        "    <li>You should see that the treatment (trt) was beneficial because it has a negative impact on the hazard (the coefficient is negative, and exp(coef) is less than 1).</li>\n",
        "    <li>The associated hazard ratio is ~0.8, because this is the exp(coef) of treatment.</li>\n",
        "</ul>\n",
        "</p>"
      ]
    },
    {
      "cell_type": "markdown",
      "metadata": {
        "id": "WVC3W6bmQpmg",
        "colab_type": "text"
      },
      "source": [
        "We can compare the predicted survival curves for treatment variables. Run the next cell to plot survival curves using the `plot_covariate_groups()` function. \n",
        "- The y-axis is th survival rate\n",
        "- The x-axis is time"
      ]
    },
    {
      "cell_type": "code",
      "metadata": {
        "colab_type": "code",
        "id": "Uxl0icyBS4Dr",
        "colab": {}
      },
      "source": [
        "cph.plot_covariate_groups('trt', values=[0, 1]);"
      ],
      "execution_count": 0,
      "outputs": []
    },
    {
      "cell_type": "markdown",
      "metadata": {
        "id": "lWcoGXsuQpml",
        "colab_type": "text"
      },
      "source": [
        "Notice how the group without treatment has a lower survival rate at all times (the x-axis is time) compared to the treatment group."
      ]
    },
    {
      "cell_type": "markdown",
      "metadata": {
        "id": "YLgpgxeKQpml",
        "colab_type": "text"
      },
      "source": [
        "<a name='6'></a>\n",
        "## 6. Hazard Ratio\n",
        "\n",
        "Recall from the lecture videos that the Hazard Ratio between two patients was the likelihood of one patient (e.g smoker) being more at risk than the other (e.g non-smoker).\n",
        "$$\n",
        "\\frac{\\lambda_{smoker}(t)}{\\lambda_{nonsmoker}(t)} = e^{\\theta (X_{smoker} - X_{nonsmoker})^T}\n",
        "$$\n",
        "\n",
        "Where\n",
        "\n",
        "$$\n",
        "\\lambda_{smoker}(t) = \\lambda_0(t)e^{\\theta X_{smoker}^T}\n",
        "$$\n",
        "and\n",
        "$$\n",
        "\\lambda_{nonsmoker}(t) = \\lambda_0(t)e^{\\theta X_{nonsmoker}^T} \\\\\n",
        "$$"
      ]
    },
    {
      "cell_type": "markdown",
      "metadata": {
        "id": "K09dFZA8Qpmm",
        "colab_type": "text"
      },
      "source": [
        "<a name='Ex-2'></a>\n",
        "### Exercise 2\n",
        "In the cell below, write a function to compute the hazard ratio between two individuals given the model's coefficients."
      ]
    },
    {
      "cell_type": "markdown",
      "metadata": {
        "id": "kl9PZKtGQpmm",
        "colab_type": "text"
      },
      "source": [
        "<details>    \n",
        "<summary>\n",
        "    <font size=\"3\" color=\"darkgreen\"><b>Hints</b></font>\n",
        "</summary>\n",
        "<p>\n",
        "<ul>\n",
        "    <li>use numpy.dot</li>\n",
        "    <li>use nump.exp</li>\n",
        "</ul>\n",
        "</p>\n"
      ]
    },
    {
      "cell_type": "code",
      "metadata": {
        "colab_type": "code",
        "id": "WbBmxbeDA3k1",
        "colab": {}
      },
      "source": [
        "# UNQ_C2 (UNIQUE CELL IDENTIFIER, DO NOT EDIT)\n",
        "def hazard_ratio(case_1, case_2, cox_params):\n",
        "    '''\n",
        "    Return the hazard ratio of case_1 : case_2 using\n",
        "    the coefficients of the cox model.\n",
        "    \n",
        "    Args:\n",
        "        case_1 (np.array): (1 x d) array of covariates\n",
        "        case_2 (np.array): (1 x d) array of covariates\n",
        "        model (np.array): (1 x d) array of cox model coefficients\n",
        "    Returns:\n",
        "        hazard_ratio (float): hazard ratio of case_1 : case_2\n",
        "    '''\n",
        "    \n",
        "    ### START CODE HERE (REPLACE INSTANCES OF 'None' with your code) ###\n",
        "    \n",
        "    hr = np.exp(np.dot(cox_params,(case_1-case_2).T))\n",
        "    \n",
        "    ### END CODE HERE ###\n",
        "    \n",
        "    return hr"
      ],
      "execution_count": 0,
      "outputs": []
    },
    {
      "cell_type": "markdown",
      "metadata": {
        "colab_type": "text",
        "id": "zbDQUxE6CcA3"
      },
      "source": [
        "Now, evaluate it on the following pair of indivduals: `i = 1` and `j = 5`"
      ]
    },
    {
      "cell_type": "code",
      "metadata": {
        "colab_type": "code",
        "id": "7flsvTRXCgqO",
        "colab": {}
      },
      "source": [
        "i = 1\n",
        "case_1 = one_hot_train.iloc[i, :].drop(['time', 'status'])\n",
        "\n",
        "j = 5\n",
        "case_2 = one_hot_train.iloc[j, :].drop(['time', 'status'])\n",
        "\n",
        "print(hazard_ratio(case_1.values, case_2.values, cph.params_.values))"
      ],
      "execution_count": 0,
      "outputs": []
    },
    {
      "cell_type": "markdown",
      "metadata": {
        "id": "NaGiz7ChQpmv",
        "colab_type": "text"
      },
      "source": [
        "#### Expected Output:\n",
        "```CPP\n",
        "15.029017732492221\n",
        "```"
      ]
    },
    {
      "cell_type": "markdown",
      "metadata": {
        "id": "-UGxD6QIQpmv",
        "colab_type": "text"
      },
      "source": [
        "**Question:** \n",
        "\n",
        "Is `case_1` or `case_2` at greater risk? "
      ]
    },
    {
      "cell_type": "markdown",
      "metadata": {
        "id": "QtsxCqYyQpmw",
        "colab_type": "text"
      },
      "source": [
        "<details>    \n",
        "<summary>\n",
        "    <font size=\"3\" color=\"darkgreen\"><b>Check your answer!</b></font>\n",
        "</summary>\n",
        "<p>\n",
        "<ul>\n",
        "<ul>\n",
        "    <li>You should see that `case_1` is at higher risk.</li>\n",
        "    <li>The hazard ratio of case 1 / case 2 is greater than 1, so case 1 had a higher hazard relative to case 2</li>\n",
        "</ul>\n",
        "</p>"
      ]
    },
    {
      "cell_type": "markdown",
      "metadata": {
        "id": "J1u8b8K1Qpmw",
        "colab_type": "text"
      },
      "source": [
        "Inspect different pairs, and see if you can figure out which patient is more at risk."
      ]
    },
    {
      "cell_type": "code",
      "metadata": {
        "colab_type": "code",
        "id": "g2PZ3sGvCs0K",
        "colab": {}
      },
      "source": [
        "i = 4\n",
        "case_a = one_hot_train.iloc[i, :].drop(['time', 'status'])\n",
        "\n",
        "j = 7\n",
        "case_b = one_hot_train.iloc[j, :].drop(['time', 'status'])\n",
        "\n",
        "print(\"Case A\\n\\n\", case_a, \"\\n\")\n",
        "print(\"Case B\\n\\n\", case_b, \"\\n\")\n",
        "print(\"Hazard Ratio:\", hazard_ratio(case_a.values, case_b.values, cph.params_.values))"
      ],
      "execution_count": 0,
      "outputs": []
    },
    {
      "cell_type": "markdown",
      "metadata": {
        "id": "r-O2X8KAQpmz",
        "colab_type": "text"
      },
      "source": [
        "<details>    \n",
        "<summary>\n",
        "    <font size=\"3\" color=\"darkgreen\"><b>Check your answer!</b></font>\n",
        "</summary>\n",
        "<p>\n",
        "<ul>\n",
        "<ul>\n",
        "    <li>You should see that `case_2` is at higher risk.</li>\n",
        "    <li>The hazard ratio of case 1 / case 2 is less than 1, so case 2 had a higher hazard relative to case 1</li>\n",
        "</ul>\n",
        "</p>"
      ]
    },
    {
      "cell_type": "markdown",
      "metadata": {
        "colab_type": "text",
        "id": "KUa6r-KOyySp"
      },
      "source": [
        "<a name='7'></a>\n",
        "## 7. Harrell's C-index"
      ]
    },
    {
      "cell_type": "markdown",
      "metadata": {
        "colab_type": "text",
        "id": "woQAtSmRXrgr"
      },
      "source": [
        "To evaluate how good our model is performing, we will write our own version of the C-index. Similar to the week 1 case, C-index in the survival context is the probability that, given a randomly selected pair of individuals, the one who died sooner has a higher risk score. \n",
        "\n",
        "However, we need to take into account censoring. Imagine a pair of patients, $A$ and $B$. \n",
        "\n",
        "#### Scenario 1\n",
        "- A was censored at time $t_A$ \n",
        "- B died at $t_B$\n",
        "- $t_A < t_B$. \n",
        "\n",
        "Because of censoring, we can't say whether $A$ or $B$ should have a higher risk score. \n",
        "\n",
        "#### Scenario 2\n",
        "Now imagine that $t_A > t_B$.\n",
        "\n",
        "- A was censored at time $t_A$ \n",
        "- B died at $t_B$\n",
        "- $t_A > t_B$\n",
        "\n",
        "Now we can definitively say that $B$ should have a higher risk score than $A$, since we know for a fact that $A$ lived longer. \n",
        "\n",
        "Therefore, when we compute our C-index\n",
        "- We should only consider pairs where at most one person is censored\n",
        "- If they are censored, then their censored time should occur *after* the other person's time of death. \n",
        "\n",
        "The metric we get if we use this rule is called **Harrel's C-index**.\n",
        "\n",
        "Note that in this case, being censored at time $t$ means that the true death time was some time AFTER time $t$ and not at $t$. \n",
        "- Therefore if $t_A = t_B$ and A was censored:\n",
        "    - Then $A$ actually lived longer than $B$. \n",
        "    - This will effect how you deal with ties in the exercise below!\n",
        "\n"
      ]
    },
    {
      "cell_type": "markdown",
      "metadata": {
        "id": "oE_OrIA8Qpm1",
        "colab_type": "text"
      },
      "source": [
        "<a name='Ex-3'></a>\n",
        "### Exercise 3\n",
        "Fill in the function below to compute Harrel's C-index."
      ]
    },
    {
      "cell_type": "markdown",
      "metadata": {
        "id": "-tISBBUxQpm2",
        "colab_type": "text"
      },
      "source": [
        "<details>    \n",
        "<summary>\n",
        "    <font size=\"3\" color=\"darkgreen\"><b>Hints</b></font>\n",
        "</summary>\n",
        "<p>\n",
        "<ul>\n",
        "    <li>If you get a division by zero error, consider checking how you count when a pair is permissible (in the case where one patient is censored and the other is not censored).</li>\n",
        "</ul>\n",
        "</p>"
      ]
    },
    {
      "cell_type": "code",
      "metadata": {
        "id": "IsDebnlxQpm2",
        "colab_type": "code",
        "colab": {}
      },
      "source": [
        "# UNQ_C3 (UNIQUE CELL IDENTIFIER, DO NOT EDIT)\n",
        "def harrell_c(y_true, scores, event):\n",
        "    '''\n",
        "    Compute Harrel C-index given true event/censoring times,\n",
        "    model output, and event indicators.\n",
        "    \n",
        "    Args:\n",
        "        y_true (array): array of true event times\n",
        "        scores (array): model risk scores\n",
        "        event (array): indicator, 1 if event occurred at that index, 0 for censorship\n",
        "    Returns:\n",
        "        result (float): C-index metric\n",
        "    '''\n",
        "    \n",
        "    n = len(y_true)\n",
        "    assert (len(scores) == n and len(event) == n)\n",
        "    \n",
        "    concordant = 0.0\n",
        "    permissible = 0.0\n",
        "    ties = 0.0\n",
        "    \n",
        "    result = 0.0\n",
        "    \n",
        "    ### START CODE HERE (REPLACE INSTANCES OF 'None' and 'pass' with your code) ###\n",
        "    \n",
        "    # use double for loop to go through cases\n",
        "    for i in range(n):\n",
        "        # set lower bound on j to avoid double counting\n",
        "        for j in range(i + 1, n):\n",
        "            \n",
        "            # check if at most one is censored\n",
        "            if event[i] == 1 or event[j] == 1:\n",
        "                # check if neither are censored\n",
        "                if event[i] == 1 and event[j] == 1:\n",
        "                    permissible += 1\n",
        "                          \n",
        "                    # check if scores are tied\n",
        "                    if scores[i] == scores[j]:\n",
        "                        ties += 1\n",
        "                    \n",
        "                    # check for concordant\n",
        "                    elif y_true[i] < y_true[j] and scores[i] > scores[j]:\n",
        "                        concordant += 1\n",
        "                    elif y_true[i] > y_true[j] and scores[i] < scores[j]:\n",
        "                        concordant += 1.0\n",
        "                \n",
        "                # check if one is censored\n",
        "                elif event[i] != event[j]:\n",
        "                    \n",
        "                    # get censored index\n",
        "                    censored = j\n",
        "                    uncensored = i\n",
        "                    \n",
        "                    if event[i] == 0:\n",
        "                        censored = i\n",
        "                        uncensored = j\n",
        "                        \n",
        "                    # check if permissible\n",
        "                    # Note: in this case, we are assuming that censored at a time\n",
        "                    # means that you did NOT die at that time. That is, if you\n",
        "                    # live until time 30 and have event = 0, then you lived THROUGH\n",
        "                    # time 30.\n",
        "                    if y_true[uncensored] <= y_true[censored]:\n",
        "                        permissible += 1.0\n",
        "                        \n",
        "                        # check if scores are tied\n",
        "                        if scores[uncensored] == scores[censored]:\n",
        "                            # update ties \n",
        "                            ties += 1\n",
        "                            \n",
        "                        # check if scores are concordant \n",
        "                        if scores[uncensored] > scores[censored]:\n",
        "                            concordant += 1.0\n",
        "    \n",
        "    # set result to c-index computed from number of concordant pairs,\n",
        "    # number of ties, and number of permissible pairs (REPLACE 0 with your code)  \n",
        "    result = (concordant + 0.5*ties) / permissible\n",
        "    \n",
        "    ### END CODE HERE ###\n",
        "    \n",
        "    return result   "
      ],
      "execution_count": 0,
      "outputs": []
    },
    {
      "cell_type": "markdown",
      "metadata": {
        "id": "nEKgYYh8Qpm6",
        "colab_type": "text"
      },
      "source": [
        "You can test your function on the following test cases:"
      ]
    },
    {
      "cell_type": "code",
      "metadata": {
        "id": "iJ1LbIsCQpm7",
        "colab_type": "code",
        "colab": {}
      },
      "source": [
        "y_true = [30, 12, 84, 9]\n",
        "\n",
        "# Case 1\n",
        "event = [1, 1, 1, 1]\n",
        "scores = [0.5, 0.9, 0.1, 1.0]\n",
        "print(\"Case 1\")\n",
        "print(\"Expected: 1.0, Output: {}\".format(harrell_c(y_true, scores, event)))\n",
        "\n",
        "# Case 2\n",
        "scores = [0.9, 0.5, 1.0, 0.1]\n",
        "print(\"\\nCase 2\")\n",
        "print(\"Expected: 0.0, Output: {}\".format(harrell_c(y_true, scores, event)))\n",
        "\n",
        "# Case 3\n",
        "event = [1, 0, 1, 1]\n",
        "scores = [0.5, 0.9, 0.1, 1.0]\n",
        "print(\"\\nCase 3\")\n",
        "print(\"Expected: 1.0, Output: {}\".format(harrell_c(y_true, scores, event)))\n",
        "\n",
        "# Case 4\n",
        "y_true = [30, 30, 20, 20]\n",
        "event = [1, 0, 1, 0]\n",
        "scores = [10, 5, 15, 20]\n",
        "print(\"\\nCase 4\")\n",
        "print(\"Expected: 0.75, Output: {}\".format(harrell_c(y_true, scores, event)))\n",
        "\n",
        "# Case 5\n",
        "y_true = list(reversed([30, 30, 30, 20, 20]))\n",
        "event = [0, 1, 0, 1, 0]\n",
        "scores = list(reversed([15, 10, 5, 15, 20]))\n",
        "print(\"\\nCase 5\")\n",
        "print(\"Expected: 0.583, Output: {}\".format(harrell_c(y_true, scores, event)))\n",
        "\n",
        "# Case 6\n",
        "y_true = [10,10]\n",
        "event = [0,1]\n",
        "scores = [4,5]\n",
        "print(\"\\nCase 6\")\n",
        "print(f\"Expected: 1.0 , Output:{harrell_c(y_true, scores, event):.4f}\")"
      ],
      "execution_count": 0,
      "outputs": []
    },
    {
      "cell_type": "markdown",
      "metadata": {
        "colab_type": "text",
        "id": "CtQVe4pAn8ic"
      },
      "source": [
        "Now use the Harrell's C-index function to evaluate the cox model on our data sets."
      ]
    },
    {
      "cell_type": "code",
      "metadata": {
        "colab_type": "code",
        "id": "8nzHc_Qbn7dM",
        "colab": {}
      },
      "source": [
        "# Train\n",
        "scores = cph.predict_partial_hazard(one_hot_train)\n",
        "cox_train_scores = harrell_c(one_hot_train['time'].values, scores.values, one_hot_train['status'].values)\n",
        "# Validation\n",
        "scores = cph.predict_partial_hazard(one_hot_val)\n",
        "cox_val_scores = harrell_c(one_hot_val['time'].values, scores.values, one_hot_val['status'].values)\n",
        "# Test\n",
        "scores = cph.predict_partial_hazard(one_hot_test)\n",
        "cox_test_scores = harrell_c(one_hot_test['time'].values, scores.values, one_hot_test['status'].values)\n",
        "\n",
        "print(\"Train:\", cox_train_scores)\n",
        "print(\"Val:\", cox_val_scores)\n",
        "print(\"Test:\", cox_test_scores)"
      ],
      "execution_count": 0,
      "outputs": []
    },
    {
      "cell_type": "markdown",
      "metadata": {
        "id": "Fc5CpHVTQpnB",
        "colab_type": "text"
      },
      "source": [
        "What do these values tell us ?"
      ]
    },
    {
      "cell_type": "markdown",
      "metadata": {
        "colab_type": "text",
        "id": "AuNjR_wNkpWz"
      },
      "source": [
        "<a name='8'></a>\n",
        "## 8. Random Survival Forests\n",
        "\n",
        "This performed well, but you have a hunch you can squeeze out better performance by using a machine learning approach. You decide to use a Random Survival Forest. To do this, you can use the `RandomForestSRC` package in R. To call R function from Python, we'll use the `r2py` package. Run the following cell to import the necessary requirements. \n"
      ]
    },
    {
      "cell_type": "code",
      "metadata": {
        "colab_type": "code",
        "id": "ZgSy-Dj6kquK",
        "colab": {}
      },
      "source": [
        "%load_ext rpy2.ipython\n",
        "%R require(ggplot2)\n",
        "\n",
        "from rpy2.robjects.packages import importr\n",
        "# import R's \"base\" package\n",
        "base = importr('base')\n",
        "\n",
        "# import R's \"utils\" package\n",
        "utils = importr('utils')\n",
        "\n",
        "# import rpy2's package module\n",
        "import rpy2.robjects.packages as rpackages\n",
        "\n",
        "forest = rpackages.importr('randomForestSRC', lib_loc='R')\n",
        "\n",
        "from rpy2 import robjects as ro\n",
        "R = ro.r\n",
        "\n",
        "from rpy2.robjects import pandas2ri\n",
        "pandas2ri.activate()"
      ],
      "execution_count": 0,
      "outputs": []
    },
    {
      "cell_type": "markdown",
      "metadata": {
        "colab_type": "text",
        "id": "LXBgqQBfuMA5"
      },
      "source": [
        "Instead of encoding our categories as binary features, we can use the original dataframe since trees deal well with raw categorical data (can you think why this might be?).\n",
        "\n",
        "Run the code cell below to build your forest."
      ]
    },
    {
      "cell_type": "code",
      "metadata": {
        "colab_type": "code",
        "id": "B-pio4o4mdVJ",
        "colab": {}
      },
      "source": [
        "model = forest.rfsrc(ro.Formula('Surv(time, status) ~ .'), data=df_train, ntree=300, nodedepth=5, seed=-1)"
      ],
      "execution_count": 0,
      "outputs": []
    },
    {
      "cell_type": "code",
      "metadata": {
        "colab_type": "code",
        "id": "zZfcUvJ3nL04",
        "colab": {}
      },
      "source": [
        "print(model)"
      ],
      "execution_count": 0,
      "outputs": []
    },
    {
      "cell_type": "markdown",
      "metadata": {
        "colab_type": "text",
        "id": "9Mwzm55H-QKV"
      },
      "source": [
        "Finally, let's evaluate on our validation and test sets, and compare it with our Cox model."
      ]
    },
    {
      "cell_type": "code",
      "metadata": {
        "colab_type": "code",
        "id": "vfl4LbGfpbKp",
        "colab": {}
      },
      "source": [
        "result = R.predict(model, newdata=df_val)\n",
        "scores = np.array(result.rx('predicted')[0])\n",
        "\n",
        "print(\"Cox Model Validation Score:\", cox_val_scores)\n",
        "print(\"Survival Forest Validation Score:\", harrell_c(df_val['time'].values, scores, df_val['status'].values))"
      ],
      "execution_count": 0,
      "outputs": []
    },
    {
      "cell_type": "code",
      "metadata": {
        "colab_type": "code",
        "id": "uhqSQJhrplSG",
        "colab": {}
      },
      "source": [
        "result = R.predict(model, newdata=df_test)\n",
        "scores = np.array(result.rx('predicted')[0])\n",
        "\n",
        "print(\"Cox Model Test Score:\", cox_test_scores)\n",
        "print(\"Survival Forest Validation Score:\", harrell_c(df_test['time'].values, scores, df_test['status'].values))"
      ],
      "execution_count": 0,
      "outputs": []
    },
    {
      "cell_type": "markdown",
      "metadata": {
        "colab_type": "text",
        "id": "Gp_SgUXreAWn"
      },
      "source": [
        "Your random forest model should be outperforming the Cox model slightly. Let's dig deeper to see how they differ."
      ]
    },
    {
      "cell_type": "markdown",
      "metadata": {
        "colab_type": "text",
        "id": "ZtPMPaSli8GB"
      },
      "source": [
        "<a name='9'></a>\n",
        "## 9. Permutation Method for Interpretation\n",
        "\n",
        "We'll dig a bit deeper into interpretation methods for forests a bit later, but for now just know that random surival forests come with their own built in variable importance feature. The method is referred to as VIMP, and for the purpose of this section you should just know that higher absolute value of the VIMP means that the variable generally has a larger effect on the model outcome.\n",
        "\n",
        "Run the next cell to compute and plot VIMP for the random survival forest."
      ]
    },
    {
      "cell_type": "code",
      "metadata": {
        "colab_type": "code",
        "id": "u7M4_N_d-YJu",
        "colab": {}
      },
      "source": [
        "vimps = np.array(forest.vimp(model).rx('importance')[0])\n",
        "\n",
        "y = np.arange(len(vimps))\n",
        "plt.barh(y, np.abs(vimps))\n",
        "plt.yticks(y, df_train.drop(['time', 'status'], axis=1).columns)\n",
        "plt.title(\"VIMP (absolute value)\")\n",
        "plt.show()"
      ],
      "execution_count": 0,
      "outputs": []
    },
    {
      "cell_type": "markdown",
      "metadata": {
        "colab_type": "text",
        "id": "2YGhK2xwjkiA"
      },
      "source": [
        "### Question:\n",
        "\n",
        "How does the variable importance compare to that of the Cox model? Which variable is important in both models? Which variable is important in the random survival forest but not in the Cox model? You should see that `edema` is important in both the random survival forest and the Cox model. You should also see that `bili` is important in the random survival forest but not the Cox model ."
      ]
    },
    {
      "cell_type": "markdown",
      "metadata": {
        "id": "Tx11fajcQpnU",
        "colab_type": "text"
      },
      "source": [
        "# Congratulations!\n",
        "\n",
        "You've finished the last assignment in course 2! Take a minute to look back at the analysis you've done over the last four assignments. You've done a great job!"
      ]
    }
  ]
}