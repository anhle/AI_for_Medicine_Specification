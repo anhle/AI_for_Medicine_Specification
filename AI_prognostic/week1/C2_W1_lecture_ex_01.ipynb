{
  "nbformat": 4,
  "nbformat_minor": 0,
  "metadata": {
    "kernelspec": {
      "display_name": "Python 3",
      "language": "python",
      "name": "python3"
    },
    "language_info": {
      "codemirror_mode": {
        "name": "ipython",
        "version": 3
      },
      "file_extension": ".py",
      "mimetype": "text/x-python",
      "name": "python",
      "nbconvert_exporter": "python",
      "pygments_lexer": "ipython3",
      "version": "3.7.6"
    },
    "colab": {
      "name": "C2_W1_lecture_ex_01.ipynb",
      "provenance": [],
      "toc_visible": true,
      "include_colab_link": true
    }
  },
  "cells": [
    {
      "cell_type": "markdown",
      "metadata": {
        "id": "view-in-github",
        "colab_type": "text"
      },
      "source": [
        "<a href=\"https://colab.research.google.com/github/anhle/AI_for_Medicine_Specification/blob/master/AI_prognostic/week1/C2_W1_lecture_ex_01.ipynb\" target=\"_parent\"><img src=\"https://colab.research.google.com/assets/colab-badge.svg\" alt=\"Open In Colab\"/></a>"
      ]
    },
    {
      "cell_type": "markdown",
      "metadata": {
        "id": "oXHAASuS-uBY",
        "colab_type": "text"
      },
      "source": [
        "# Course 2 week 1 lecture notebook 01\n",
        "# Create a Linear Model"
      ]
    },
    {
      "cell_type": "markdown",
      "metadata": {
        "id": "FQ5n7nCS-uBa",
        "colab_type": "text"
      },
      "source": [
        "## Linear model using scikit-learn\n",
        "\n",
        "We'll practice using a scikit-learn model for linear regression. You will do something similar in this week's assignment (but with a logistic regression model).\n",
        "\n",
        "[sklearn.linear_model.LinearRegression()](https://scikit-learn.org/stable/modules/generated/sklearn.linear_model.LinearRegression.html)"
      ]
    },
    {
      "cell_type": "code",
      "metadata": {
        "id": "vGp5XPi7_0Pn",
        "colab_type": "code",
        "colab": {}
      },
      "source": [
        "from google.colab import drive\n",
        "drive.mount('/content/drive')"
      ],
      "execution_count": 0,
      "outputs": []
    },
    {
      "cell_type": "code",
      "metadata": {
        "id": "gegBxaOBAAMw",
        "colab_type": "code",
        "colab": {}
      },
      "source": [
        "!cp '/content/drive/My Drive/data/AI_for_Medicine_Specification/AI_prognostic/w1/utils.py' /content/\n",
        "!cp '/content/drive/My Drive/data/AI_for_Medicine_Specification/AI_prognostic/w1/X_data.csv' /content/\n",
        "!cp '/content/drive/My Drive/data/AI_for_Medicine_Specification/AI_prognostic/w1/y_data.csv' /content/"
      ],
      "execution_count": 0,
      "outputs": []
    },
    {
      "cell_type": "markdown",
      "metadata": {
        "id": "Pfvr1Pdv-uBb",
        "colab_type": "text"
      },
      "source": [
        "First, import `LinearRegression`, which is a Python 'class'."
      ]
    },
    {
      "cell_type": "code",
      "metadata": {
        "id": "5oq_Mxao-uBb",
        "colab_type": "code",
        "colab": {}
      },
      "source": [
        "# Import the module 'LinearRegression' from sklearn\n",
        "from sklearn.linear_model import LinearRegression"
      ],
      "execution_count": 0,
      "outputs": []
    },
    {
      "cell_type": "markdown",
      "metadata": {
        "id": "WkUHHhxV-uBg",
        "colab_type": "text"
      },
      "source": [
        "Next, use the class to create an object of type LinearRegression."
      ]
    },
    {
      "cell_type": "code",
      "metadata": {
        "id": "DY6H4gtj-uBh",
        "colab_type": "code",
        "colab": {}
      },
      "source": [
        "# Create an object of type LinearRegression\n",
        "model = LinearRegression()\n",
        "model"
      ],
      "execution_count": 0,
      "outputs": []
    },
    {
      "cell_type": "markdown",
      "metadata": {
        "id": "c7p9Mqr2-uBm",
        "colab_type": "text"
      },
      "source": [
        "Generate some data by importing a module 'load_data', which is implemented for you.  The features in `X' are: \n",
        "\n",
        "- Age: (years)\n",
        "- Systolic_BP: Systolic blood pressure (mmHg)\n",
        "- Diastolic_BP: Diastolic blood pressure (mmHg)\n",
        "- Cholesterol: (mg/DL)\n",
        "\n",
        "The labels in `y` indicate whether the patient has a disease (diabetic retinopathy).\n",
        "- y = 1 : patient has retinopathy.\n",
        "- y = 0 : patient does not have retinopathy."
      ]
    },
    {
      "cell_type": "code",
      "metadata": {
        "id": "7rcNKGhY-uBn",
        "colab_type": "code",
        "colab": {}
      },
      "source": [
        "# Import the load_data function from the utils module\n",
        "from utils import load_data"
      ],
      "execution_count": 0,
      "outputs": []
    },
    {
      "cell_type": "code",
      "metadata": {
        "id": "hkFttlNL-uBq",
        "colab_type": "code",
        "colab": {}
      },
      "source": [
        "# Generate features and labels using the imported function\n",
        "X, y = load_data(100)"
      ],
      "execution_count": 0,
      "outputs": []
    },
    {
      "cell_type": "markdown",
      "metadata": {
        "id": "_WszgMQP-uBt",
        "colab_type": "text"
      },
      "source": [
        "Explore the data by viewing the features and the labels"
      ]
    },
    {
      "cell_type": "code",
      "metadata": {
        "id": "klQO3N1g-uBu",
        "colab_type": "code",
        "colab": {}
      },
      "source": [
        "# View the features\n",
        "X.head()"
      ],
      "execution_count": 0,
      "outputs": []
    },
    {
      "cell_type": "code",
      "metadata": {
        "id": "AvI1oLbu-uBx",
        "colab_type": "code",
        "colab": {}
      },
      "source": [
        "# Plot a histogram of the Age feature\n",
        "X['Age'].hist();"
      ],
      "execution_count": 0,
      "outputs": []
    },
    {
      "cell_type": "code",
      "metadata": {
        "id": "oDBsclV6-uB0",
        "colab_type": "code",
        "colab": {}
      },
      "source": [
        "# Plot a histogram of the systolic blood pressure feature\n",
        "X['Systolic_BP'].hist();"
      ],
      "execution_count": 0,
      "outputs": []
    },
    {
      "cell_type": "code",
      "metadata": {
        "id": "YWBK6sk5-uB3",
        "colab_type": "code",
        "colab": {}
      },
      "source": [
        "# Plot a histogram of the diastolic blood pressure feature\n",
        "X['Diastolic_BP'].hist();"
      ],
      "execution_count": 0,
      "outputs": []
    },
    {
      "cell_type": "code",
      "metadata": {
        "id": "5v5126Ff-uB6",
        "colab_type": "code",
        "colab": {}
      },
      "source": [
        "# Plot a histogram of the cholesterol feature\n",
        "X['Cholesterol'].hist();"
      ],
      "execution_count": 0,
      "outputs": []
    },
    {
      "cell_type": "markdown",
      "metadata": {
        "id": "HLLjF4r3-uB9",
        "colab_type": "text"
      },
      "source": [
        "Also take a look at the labels"
      ]
    },
    {
      "cell_type": "code",
      "metadata": {
        "id": "Tbag-7vl-uB9",
        "colab_type": "code",
        "colab": {}
      },
      "source": [
        "# View a few values of the labels\n",
        "y.head()"
      ],
      "execution_count": 0,
      "outputs": []
    },
    {
      "cell_type": "code",
      "metadata": {
        "id": "ebb7GkfF-uCA",
        "colab_type": "code",
        "colab": {}
      },
      "source": [
        "# Plot a histogram of the labels\n",
        "y.hist();"
      ],
      "execution_count": 0,
      "outputs": []
    },
    {
      "cell_type": "markdown",
      "metadata": {
        "id": "cAsISiUT-uCD",
        "colab_type": "text"
      },
      "source": [
        "Fit the LinearRegression using the features in `X` and the labels in `y`.  To \"fit\" the model is another way of saying that we are training the model on the data."
      ]
    },
    {
      "cell_type": "code",
      "metadata": {
        "id": "INfnJixK-uCE",
        "colab_type": "code",
        "colab": {}
      },
      "source": [
        "# Fit the linear regression model\n",
        "model.fit(X, y)\n",
        "model"
      ],
      "execution_count": 0,
      "outputs": []
    },
    {
      "cell_type": "markdown",
      "metadata": {
        "id": "B5AttJcE-uCG",
        "colab_type": "text"
      },
      "source": [
        "- View the coefficients of the trained model.\n",
        "- The coefficients are the 'weights' or $\\beta$s associated with each feature\n",
        "- You'll use the coefficients for making predictions.\n",
        "$$\\hat{y} = \\beta_1x_1 + \\beta_2x_2 + ... \\beta_N x_N$$"
      ]
    },
    {
      "cell_type": "code",
      "metadata": {
        "id": "dQagmaT6-uCH",
        "colab_type": "code",
        "colab": {}
      },
      "source": [
        "# View the coefficients of the model\n",
        "model.coef_"
      ],
      "execution_count": 0,
      "outputs": []
    },
    {
      "cell_type": "markdown",
      "metadata": {
        "id": "AehX0GIJ-uCK",
        "colab_type": "text"
      },
      "source": [
        "In the assignment, you will do something similar, but using a logistic regression, so that the output of the prediction will be bounded between 0 and 1."
      ]
    },
    {
      "cell_type": "markdown",
      "metadata": {
        "id": "uzriiX3I-uCK",
        "colab_type": "text"
      },
      "source": [
        "### This is the end of this practice section.\n",
        "\n",
        "Please continue on with the lecture videos!\n",
        "\n",
        "---"
      ]
    }
  ]
}