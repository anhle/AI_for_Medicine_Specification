{
  "nbformat": 4,
  "nbformat_minor": 0,
  "metadata": {
    "kernelspec": {
      "display_name": "Python 3",
      "language": "python",
      "name": "python3"
    },
    "language_info": {
      "codemirror_mode": {
        "name": "ipython",
        "version": 3
      },
      "file_extension": ".py",
      "mimetype": "text/x-python",
      "name": "python",
      "nbconvert_exporter": "python",
      "pygments_lexer": "ipython3",
      "version": "3.7.6"
    },
    "colab": {
      "name": "C2_W3_lecture.ipynb",
      "provenance": [],
      "include_colab_link": true
    }
  },
  "cells": [
    {
      "cell_type": "markdown",
      "metadata": {
        "id": "view-in-github",
        "colab_type": "text"
      },
      "source": [
        "<a href=\"https://colab.research.google.com/github/anhle/AI_for_Medicine_Specification/blob/master/AI_prognostic/week3/C2_W3_lecture.ipynb\" target=\"_parent\"><img src=\"https://colab.research.google.com/assets/colab-badge.svg\" alt=\"Open In Colab\"/></a>"
      ]
    },
    {
      "cell_type": "markdown",
      "metadata": {
        "id": "Ny71fLutbKRy",
        "colab_type": "text"
      },
      "source": [
        "# AI4M Course 2 Week 3 lecture notebook"
      ]
    },
    {
      "cell_type": "markdown",
      "metadata": {
        "id": "VYOetwxUbKR0",
        "colab_type": "text"
      },
      "source": [
        "## Outline\n",
        "\n",
        "[Count patients](#count-patients)\n",
        "\n",
        "[Kaplan-Meier](#kaplan-meier)"
      ]
    },
    {
      "cell_type": "markdown",
      "metadata": {
        "id": "D2oxZ6LebKR0",
        "colab_type": "text"
      },
      "source": [
        "<a name=\"count-patients\"></a>\n",
        "## Count patients"
      ]
    },
    {
      "cell_type": "code",
      "metadata": {
        "id": "xPrY8c2lbKR1",
        "colab_type": "code",
        "colab": {}
      },
      "source": [
        "import numpy as np\n",
        "import pandas as pd"
      ],
      "execution_count": 0,
      "outputs": []
    },
    {
      "cell_type": "markdown",
      "metadata": {
        "id": "hWo4INUXbKR6",
        "colab_type": "text"
      },
      "source": [
        "We'll work with data where:\n",
        "- Time: days after a disease is diagnosed and the patient either dies or left the hospital's supervision.\n",
        "- Event: \n",
        "    - 1 if the patient died\n",
        "    - 0 if the patient was not observed to die beyond the given 'Time' (their data is censored)\n",
        "    \n",
        "Notice that these are the same numbers that you see in the lecture video about estimating survival."
      ]
    },
    {
      "cell_type": "code",
      "metadata": {
        "id": "QS0SwrUtbKR7",
        "colab_type": "code",
        "colab": {}
      },
      "source": [
        "df = pd.DataFrame({'Time': [10,8,60,20,12,30,15],\n",
        "                   'Event': [1,0,1,1,0,1,0]\n",
        "                  })\n",
        "df"
      ],
      "execution_count": 0,
      "outputs": []
    },
    {
      "cell_type": "markdown",
      "metadata": {
        "id": "anzd02AwbKR_",
        "colab_type": "text"
      },
      "source": [
        "### Count patients "
      ]
    },
    {
      "cell_type": "markdown",
      "metadata": {
        "id": "jHNXX7V-bKR_",
        "colab_type": "text"
      },
      "source": [
        "### Count number of censored patients"
      ]
    },
    {
      "cell_type": "code",
      "metadata": {
        "id": "T7tdnu3FbKSA",
        "colab_type": "code",
        "colab": {}
      },
      "source": [
        "df['Event'] == 0"
      ],
      "execution_count": 0,
      "outputs": []
    },
    {
      "cell_type": "markdown",
      "metadata": {
        "id": "DlRkKh1abKSD",
        "colab_type": "text"
      },
      "source": [
        "Patient 1, 4 and 6 were censored."
      ]
    },
    {
      "cell_type": "markdown",
      "metadata": {
        "id": "60uhyuLYbKSE",
        "colab_type": "text"
      },
      "source": [
        "- Count how many patient records were censored\n",
        "\n",
        "When we sum a series of booleans, `True` is treated as 1 and `False` is treated as 0."
      ]
    },
    {
      "cell_type": "code",
      "metadata": {
        "id": "nu7YT_D0bKSE",
        "colab_type": "code",
        "colab": {}
      },
      "source": [
        "sum(df['Event'] == 0)"
      ],
      "execution_count": 0,
      "outputs": []
    },
    {
      "cell_type": "markdown",
      "metadata": {
        "id": "dDEidXvkbKSH",
        "colab_type": "text"
      },
      "source": [
        "### Count number of patients who definitely survived past time t\n",
        "\n",
        "This assumes that any patient who was censored died at the time of being censored ( **died immediately**).\n",
        "\n",
        "If a patient survived past time `t`:\n",
        "- Their `Time` of event should be greater than `t`.  \n",
        "- Notice that they can have an `Event` of either 1 or 0.  What matters is their `Time` value."
      ]
    },
    {
      "cell_type": "code",
      "metadata": {
        "id": "CJIys0RAbKSI",
        "colab_type": "code",
        "colab": {}
      },
      "source": [
        "t = 25\n",
        "df['Time'] > t"
      ],
      "execution_count": 0,
      "outputs": []
    },
    {
      "cell_type": "code",
      "metadata": {
        "id": "yvlZ5G1hbKSL",
        "colab_type": "code",
        "colab": {}
      },
      "source": [
        "sum(df['Time'] > t)"
      ],
      "execution_count": 0,
      "outputs": []
    },
    {
      "cell_type": "markdown",
      "metadata": {
        "id": "J9hzRp9xbKSO",
        "colab_type": "text"
      },
      "source": [
        "### Count the number of patients who may have survived past t\n",
        "\n",
        "This assumes that censored patients **never die**.\n",
        "- The patient is censored at any time and we assume that they live forever.\n",
        "- The patient died (`Event` is 1) but after time `t`"
      ]
    },
    {
      "cell_type": "code",
      "metadata": {
        "id": "SO8Z72zObKSO",
        "colab_type": "code",
        "colab": {}
      },
      "source": [
        "t = 25\n",
        "(df['Time'] > t) | (df['Event'] == 0)"
      ],
      "execution_count": 0,
      "outputs": []
    },
    {
      "cell_type": "code",
      "metadata": {
        "id": "h_LKvd12bKSR",
        "colab_type": "code",
        "colab": {}
      },
      "source": [
        "sum( (df['Time'] > t) | (df['Event'] == 0) )"
      ],
      "execution_count": 0,
      "outputs": []
    },
    {
      "cell_type": "markdown",
      "metadata": {
        "id": "nNf4sLMvbKSW",
        "colab_type": "text"
      },
      "source": [
        "### Count number of patients who were not censored before time t"
      ]
    },
    {
      "cell_type": "markdown",
      "metadata": {
        "id": "utVt2l69bKSX",
        "colab_type": "text"
      },
      "source": [
        "If patient was not censored before time `t`:\n",
        "- They either had an event (death) before `t`, at `t`, or after `t` (any time)\n",
        "- Or, their `Time` occurs after time `t` (they may have either died or been censored at a later time after `t`)"
      ]
    },
    {
      "cell_type": "code",
      "metadata": {
        "id": "kFC30Sv0bKSX",
        "colab_type": "code",
        "colab": {}
      },
      "source": [
        "t = 25\n",
        "(df['Event'] == 1) | (df['Time'] > t)"
      ],
      "execution_count": 0,
      "outputs": []
    },
    {
      "cell_type": "code",
      "metadata": {
        "id": "mx91OXEBbKSa",
        "colab_type": "code",
        "colab": {}
      },
      "source": [
        "sum( (df['Event'] == 1) | (df['Time'] > t) )"
      ],
      "execution_count": 0,
      "outputs": []
    },
    {
      "cell_type": "markdown",
      "metadata": {
        "id": "AV-3KmjKbKSc",
        "colab_type": "text"
      },
      "source": [
        "<a name=\"kaplan-meier\"></a>\n",
        "## Kaplan-Meier\n",
        "\n",
        "The Kaplan Meier estimate of survival probability is:\n",
        "\n",
        "$$\n",
        "S(t) = \\prod_{t_i \\leq t} (1 - \\frac{d_i}{n_i})\n",
        "$$\n",
        "\n",
        "- $t_i$ are the events observed in the dataset \n",
        "- $d_i$ is the number of deaths at time $t_i$\n",
        "- $n_i$ is the number of people who we know have survived up to time $t_i$.\n"
      ]
    },
    {
      "cell_type": "code",
      "metadata": {
        "id": "DHMVIJDpbKSc",
        "colab_type": "code",
        "colab": {}
      },
      "source": [
        "import numpy as np\n",
        "import pandas as pd"
      ],
      "execution_count": 0,
      "outputs": []
    },
    {
      "cell_type": "code",
      "metadata": {
        "id": "qjL3s-P_bKSf",
        "colab_type": "code",
        "colab": {}
      },
      "source": [
        "df = pd.DataFrame({'Time': [3,3,2,2],\n",
        "                   'Event': [0,1,0,1]\n",
        "                  })\n",
        "df"
      ],
      "execution_count": 0,
      "outputs": []
    },
    {
      "cell_type": "markdown",
      "metadata": {
        "id": "03a_JqSPbKSi",
        "colab_type": "text"
      },
      "source": [
        "### Find those who survived up to time $t_i$\n",
        "\n",
        "If they survived up to time $t_i$, \n",
        "- Their `Time` is either greater than $t_i$\n",
        "- Or, their `Time` can be equal to $t_i$"
      ]
    },
    {
      "cell_type": "code",
      "metadata": {
        "id": "h-2ZYTmIbKSi",
        "colab_type": "code",
        "colab": {}
      },
      "source": [
        "t_i = 2\n",
        "df['Time'] >= t_i"
      ],
      "execution_count": 0,
      "outputs": []
    },
    {
      "cell_type": "markdown",
      "metadata": {
        "id": "StjTHLHDbKSk",
        "colab_type": "text"
      },
      "source": [
        "You can use this to help you calculate $n_i$"
      ]
    },
    {
      "cell_type": "markdown",
      "metadata": {
        "id": "FGLgPYs9bKSl",
        "colab_type": "text"
      },
      "source": [
        "### Find those who died at time $t_i$\n",
        "\n",
        "- If they died at $t_i$:\n",
        "- Their `Event` value is 1.  \n",
        "- Also, their `Time` should be equal to $t_i$"
      ]
    },
    {
      "cell_type": "code",
      "metadata": {
        "id": "VCnkB0AibKSm",
        "colab_type": "code",
        "colab": {}
      },
      "source": [
        "t_i = 2\n",
        "(df['Event'] == 1) & (df['Time'] == t_i)"
      ],
      "execution_count": 0,
      "outputs": []
    },
    {
      "cell_type": "markdown",
      "metadata": {
        "id": "W9_7SwqnbKSo",
        "colab_type": "text"
      },
      "source": [
        "You can use this to help you calculate $d_i$\n",
        "\n",
        "You'll implement Kaplan Meier in this week's assignment!"
      ]
    }
  ]
}